{
 "cells": [
  {
   "cell_type": "code",
   "execution_count": 1,
   "id": "993f8ebe",
   "metadata": {},
   "outputs": [],
   "source": [
    "import torch\n",
    "import torch.nn.functional as F"
   ]
  },
  {
   "cell_type": "code",
   "execution_count": 2,
   "id": "eacc6df3",
   "metadata": {},
   "outputs": [],
   "source": [
    "import numpy as np\n",
    "from tqdm import tqdm\n",
    "import matplotlib.pyplot as plt\n"
   ]
  },
  {
   "cell_type": "code",
   "execution_count": 3,
   "id": "f4480232",
   "metadata": {},
   "outputs": [],
   "source": [
    "from envs.env import D2DEnv\n",
    "from algorithms.baselines import EarliestDeadlineFirstScheduler, GFAccess\n",
    "from algorithms.ippo import iPPO\n"
   ]
  },
  {
   "cell_type": "code",
   "execution_count": 4,
   "id": "aa252401",
   "metadata": {},
   "outputs": [
    {
     "data": {
      "text/plain": [
       "7.008035881143711"
      ]
     },
     "execution_count": 4,
     "metadata": {},
     "output_type": "execute_result"
    }
   ],
   "source": [
    "Tf_gf = 4*(1 / 30 * 1e-3 + 2.34e-6)\n",
    "1e-3 / Tf_gf"
   ]
  },
  {
   "cell_type": "code",
   "execution_count": 63,
   "id": "c309d2cc",
   "metadata": {},
   "outputs": [],
   "source": [
    "n_agents = 4\n",
    "deadlines = np.array([7]*n_agents)\n",
    "lbdas = np.array([1/14]*n_agents)\n",
    "period = None\n",
    "arrival_probs = None\n",
    "offsets = None\n",
    "#neighbourhoods = [list(range(n_agents)) for k in range(n_agents)]\n",
    "neighbourhoods = [[i] for i in range(n_agents)]\n"
   ]
  },
  {
   "cell_type": "code",
   "execution_count": 64,
   "id": "07fcb66e",
   "metadata": {},
   "outputs": [],
   "source": [
    "env = D2DEnv(n_agents,\n",
    "                deadlines,\n",
    "                lbdas,\n",
    "                period=period,\n",
    "                arrival_probs=arrival_probs,\n",
    "                offsets=offsets,\n",
    "                episode_length=200,\n",
    "                traffic_model='aperiodic',\n",
    "                periodic_devices=[],\n",
    "                reward_type=0,\n",
    "                channel_switch=0,\n",
    "                channel_decoding=1.,\n",
    "                neighbourhoods=neighbourhoods, # Neighbourhoods is a list of size n_agents with the indices of the neighbours for each agent.\n",
    "                verbose=False)"
   ]
  },
  {
   "cell_type": "code",
   "execution_count": 8,
   "id": "93dc45a4",
   "metadata": {},
   "outputs": [],
   "source": [
    "edf = EarliestDeadlineFirstScheduler(env, use_channel=False, verbose=True)\n"
   ]
  },
  {
   "cell_type": "code",
   "execution_count": 9,
   "id": "d6b7ddf6",
   "metadata": {},
   "outputs": [
    {
     "name": "stdout",
     "output_type": "stream",
     "text": [
      "Number of received packets: 71779.0\n",
      "Number of channel_losses: 0\n"
     ]
    }
   ],
   "source": [
    "res_edf = edf.run(500)\n"
   ]
  },
  {
   "cell_type": "code",
   "execution_count": 10,
   "id": "4d499472",
   "metadata": {},
   "outputs": [
    {
     "name": "stdout",
     "output_type": "stream",
     "text": [
      "URLLC score: 0.9967957201967149\n",
      "Jain's index: 0.9997862827685239\n",
      "Channel errors: 0\n",
      "Reward per episode: 1414.96\n"
     ]
    }
   ],
   "source": [
    "print(f\"URLLC score: {res_edf[0]}\")\n",
    "print(f\"Jain's index: {res_edf[1]}\")\n",
    "print(f\"Channel errors: {res_edf[2]}\")\n",
    "print(f\"Reward per episode: {res_edf[3]}\")\n"
   ]
  },
  {
   "cell_type": "code",
   "execution_count": 11,
   "id": "1398b407",
   "metadata": {},
   "outputs": [],
   "source": [
    "gf = GFAccess(env, use_channel=False)\n"
   ]
  },
  {
   "cell_type": "code",
   "execution_count": 12,
   "id": "b2812325",
   "metadata": {},
   "outputs": [
    {
     "name": "stdout",
     "output_type": "stream",
     "text": [
      "Transmission probabilities: [0.1, 0.2, 0.3, 0.4, 0.5, 0.6, 0.7, 0.8, 0.9, 1] \n",
      "URLLC scores: [0.3666482224374049, 0.5064612326043738, 0.5461776714064479, 0.5122845871686622, 0.45994993742177726, 0.38629416364541125, 0.2977648605632828, 0.23084384093113486, 0.16863864142538976, 0.11496897441260545]\n"
     ]
    }
   ],
   "source": [
    "cv = gf.get_best_transmission_probs(100)\n",
    "gf.transmission_prob = gf.transmission_prob_list[np.argmax(cv)]\n",
    "print(f\"Transmission probabilities: {gf.transmission_prob_list} \\nURLLC scores: {cv}\")\n"
   ]
  },
  {
   "cell_type": "code",
   "execution_count": 14,
   "id": "30e17299",
   "metadata": {},
   "outputs": [],
   "source": [
    "res_gf = gf.run(500)\n"
   ]
  },
  {
   "cell_type": "code",
   "execution_count": 15,
   "id": "5b634941",
   "metadata": {},
   "outputs": [
    {
     "name": "stdout",
     "output_type": "stream",
     "text": [
      "URLLC score: 0.5337340886740447\n",
      "Jain's index: 0.9426200635570335\n",
      "Channel errors: 0\n",
      "Reward per episode: 271.32\n"
     ]
    }
   ],
   "source": [
    "print(f\"URLLC score: {res_gf[0]}\")\n",
    "print(f\"Jain's index: {res_gf[1]}\")\n",
    "print(f\"Channel errors: {res_gf[2]}\")\n",
    "print(f\"Reward per episode: {res_gf[3]}\")\n"
   ]
  },
  {
   "cell_type": "code",
   "execution_count": 18,
   "id": "7974e62a",
   "metadata": {},
   "outputs": [
    {
     "data": {
      "text/plain": [
       "2"
      ]
     },
     "execution_count": 18,
     "metadata": {},
     "output_type": "execute_result"
    }
   ],
   "source": [
    "env.action_space[0].n\n"
   ]
  },
  {
   "cell_type": "code",
   "execution_count": 32,
   "id": "2ebe4050",
   "metadata": {},
   "outputs": [],
   "source": [
    "observations = {f\"{i}\": [] for i in range(n_agents)}\n",
    "obs, (buffer_state, channel_state) = env.reset()\n",
    "done = False\n",
    "while not done:\n",
    "    for i in range(n_agents):\n",
    "        obs_agent = torch.tensor(obs[i], dtype=torch.float)\n",
    "        observations[str(i)].append(obs_agent)\n",
    "    action_agent = []\n",
    "    log_prob_agent = []\n",
    "    # entropy_agent = []\n",
    "    value_agent = []\n",
    "    actions = np.array(env.action_space.sample())\n",
    "    next_obs, next_state, reward, done, _ = env.step(actions)\n",
    "    obs = next_obs\n",
    "    "
   ]
  },
  {
   "cell_type": "code",
   "execution_count": 37,
   "id": "24479bc5",
   "metadata": {},
   "outputs": [
    {
     "data": {
      "text/plain": [
       "tensor([[0., 0., 0.,  ..., 0., 1., 0.],\n",
       "        [0., 0., 0.,  ..., 0., 1., 0.],\n",
       "        [0., 0., 0.,  ..., 0., 1., 0.],\n",
       "        ...,\n",
       "        [0., 0., 0.,  ..., 0., 1., 0.],\n",
       "        [0., 0., 0.,  ..., 0., 1., 1.],\n",
       "        [0., 0., 0.,  ..., 0., 1., 0.]])"
      ]
     },
     "execution_count": 37,
     "metadata": {},
     "output_type": "execute_result"
    }
   ],
   "source": [
    "torch.stack(observations['0'])\n"
   ]
  },
  {
   "cell_type": "code",
   "execution_count": 7,
   "id": "66fcf52d",
   "metadata": {},
   "outputs": [],
   "source": [
    "ippo = iPPO(env)\n"
   ]
  },
  {
   "cell_type": "code",
   "execution_count": 8,
   "id": "ba9d178a",
   "metadata": {},
   "outputs": [
    {
     "data": {
      "text/plain": [
       "(0.9454191684465589, 0.9973912454640974, 0, 24.6)"
      ]
     },
     "execution_count": 8,
     "metadata": {},
     "output_type": "execute_result"
    }
   ],
   "source": [
    "ippo.test(10)"
   ]
  },
  {
   "cell_type": "code",
   "execution_count": 9,
   "id": "34777ad7",
   "metadata": {
    "scrolled": true
   },
   "outputs": [
    {
     "name": "stdout",
     "output_type": "stream",
     "text": [
      "Episode: 0, mean score rollout: 0.9749857076825769 Score test: (0.9610333616487122, 0.9988356306405209, 0, 26.66)\n",
      "Episode: 100, mean score rollout: 0.9937134502923978 Score test: (0.9927645670759262, 0.99970229538208, 0, 27.54)\n",
      "Episode: 200, mean score rollout: 1.0 Score test: (0.9981691368788143, 0.9998990856009695, 0, 28.08)\n",
      "Episode: 300, mean score rollout: 1.0 Score test: (1.0, 1.0, 0, 28.14)\n",
      "Episode: 400, mean score rollout: 1.0 Score test: (1.0, 1.0, 0, 27.88)\n"
     ]
    },
    {
     "ename": "KeyboardInterrupt",
     "evalue": "",
     "output_type": "error",
     "traceback": [
      "\u001b[0;31m---------------------------------------------------------------------------\u001b[0m",
      "\u001b[0;31mKeyboardInterrupt\u001b[0m                         Traceback (most recent call last)",
      "\u001b[0;32m/var/folders/dd/yfjv716n6r7_2w8w_lv151d80000gn/T/ipykernel_67434/122672909.py\u001b[0m in \u001b[0;36m<module>\u001b[0;34m\u001b[0m\n\u001b[0;32m----> 1\u001b[0;31m \u001b[0mippo\u001b[0m\u001b[0;34m.\u001b[0m\u001b[0mtrain\u001b[0m\u001b[0;34m(\u001b[0m\u001b[0;36m5000\u001b[0m\u001b[0;34m,\u001b[0m \u001b[0;36m15\u001b[0m\u001b[0;34m)\u001b[0m\u001b[0;34m\u001b[0m\u001b[0;34m\u001b[0m\u001b[0m\n\u001b[0m",
      "\u001b[0;32m~/Documents/phd/D2D-PPO/algorithms/ippo.py\u001b[0m in \u001b[0;36mtrain\u001b[0;34m(self, num_iter, num_episodes, test_freq)\u001b[0m\n\u001b[1;32m    355\u001b[0m \u001b[0;34m\u001b[0m\u001b[0m\n\u001b[1;32m    356\u001b[0m         \u001b[0;32mfor\u001b[0m \u001b[0miter\u001b[0m \u001b[0;32min\u001b[0m \u001b[0mrange\u001b[0m\u001b[0;34m(\u001b[0m\u001b[0mnum_iter\u001b[0m\u001b[0;34m)\u001b[0m\u001b[0;34m:\u001b[0m\u001b[0;34m\u001b[0m\u001b[0;34m\u001b[0m\u001b[0m\n\u001b[0;32m--> 357\u001b[0;31m             \u001b[0mobs\u001b[0m\u001b[0;34m,\u001b[0m \u001b[0mactions\u001b[0m\u001b[0;34m,\u001b[0m \u001b[0mlog_probs_old\u001b[0m\u001b[0;34m,\u001b[0m \u001b[0mreturns\u001b[0m\u001b[0;34m,\u001b[0m \u001b[0m_\u001b[0m\u001b[0;34m,\u001b[0m \u001b[0madvantages\u001b[0m\u001b[0;34m,\u001b[0m \u001b[0mscores\u001b[0m\u001b[0;34m,\u001b[0m \u001b[0m_\u001b[0m \u001b[0;34m=\u001b[0m \u001b[0mself\u001b[0m\u001b[0;34m.\u001b[0m\u001b[0mcreate_rollouts\u001b[0m\u001b[0;34m(\u001b[0m\u001b[0mnum_episodes\u001b[0m\u001b[0;34m)\u001b[0m\u001b[0;34m\u001b[0m\u001b[0;34m\u001b[0m\u001b[0m\n\u001b[0m\u001b[1;32m    358\u001b[0m \u001b[0;34m\u001b[0m\u001b[0m\n\u001b[1;32m    359\u001b[0m             \u001b[0;31m# Shape: (len_trajectory * num agents)\u001b[0m\u001b[0;34m\u001b[0m\u001b[0;34m\u001b[0m\u001b[0m\n",
      "\u001b[0;32m~/Documents/phd/D2D-PPO/algorithms/ippo.py\u001b[0m in \u001b[0;36mcreate_rollouts\u001b[0;34m(self, num_episodes)\u001b[0m\n\u001b[1;32m    286\u001b[0m                     \u001b[0mobs_agent\u001b[0m \u001b[0;34m=\u001b[0m \u001b[0mtorch\u001b[0m\u001b[0;34m.\u001b[0m\u001b[0mtensor\u001b[0m\u001b[0;34m(\u001b[0m\u001b[0mobs\u001b[0m\u001b[0;34m[\u001b[0m\u001b[0mi\u001b[0m\u001b[0;34m]\u001b[0m\u001b[0;34m,\u001b[0m \u001b[0mdtype\u001b[0m\u001b[0;34m=\u001b[0m\u001b[0mtorch\u001b[0m\u001b[0;34m.\u001b[0m\u001b[0mfloat\u001b[0m\u001b[0;34m)\u001b[0m\u001b[0;34m.\u001b[0m\u001b[0mto\u001b[0m\u001b[0;34m(\u001b[0m\u001b[0mself\u001b[0m\u001b[0;34m.\u001b[0m\u001b[0mdevice\u001b[0m\u001b[0;34m)\u001b[0m\u001b[0;34m\u001b[0m\u001b[0;34m\u001b[0m\u001b[0m\n\u001b[1;32m    287\u001b[0m                     \u001b[0mobservations\u001b[0m\u001b[0;34m[\u001b[0m\u001b[0mstr\u001b[0m\u001b[0;34m(\u001b[0m\u001b[0mi\u001b[0m\u001b[0;34m)\u001b[0m\u001b[0;34m]\u001b[0m\u001b[0;34m.\u001b[0m\u001b[0mappend\u001b[0m\u001b[0;34m(\u001b[0m\u001b[0mobs_agent\u001b[0m\u001b[0;34m)\u001b[0m\u001b[0;34m\u001b[0m\u001b[0;34m\u001b[0m\u001b[0m\n\u001b[0;32m--> 288\u001b[0;31m                     \u001b[0maction\u001b[0m\u001b[0;34m,\u001b[0m \u001b[0mlog_prob\u001b[0m\u001b[0;34m,\u001b[0m \u001b[0mentropy\u001b[0m \u001b[0;34m=\u001b[0m \u001b[0magent\u001b[0m\u001b[0;34m.\u001b[0m\u001b[0mselect_action\u001b[0m\u001b[0;34m(\u001b[0m\u001b[0mobs_agent\u001b[0m\u001b[0;34m,\u001b[0m \u001b[0mtrain\u001b[0m\u001b[0;34m=\u001b[0m\u001b[0;32mTrue\u001b[0m\u001b[0;34m)\u001b[0m\u001b[0;34m\u001b[0m\u001b[0;34m\u001b[0m\u001b[0m\n\u001b[0m\u001b[1;32m    289\u001b[0m                     \u001b[0maction_agent\u001b[0m\u001b[0;34m.\u001b[0m\u001b[0mappend\u001b[0m\u001b[0;34m(\u001b[0m\u001b[0maction\u001b[0m\u001b[0;34m)\u001b[0m\u001b[0;34m\u001b[0m\u001b[0;34m\u001b[0m\u001b[0m\n\u001b[1;32m    290\u001b[0m                     \u001b[0mlog_prob_agent\u001b[0m\u001b[0;34m.\u001b[0m\u001b[0mappend\u001b[0m\u001b[0;34m(\u001b[0m\u001b[0mlog_prob\u001b[0m\u001b[0;34m)\u001b[0m\u001b[0;34m\u001b[0m\u001b[0;34m\u001b[0m\u001b[0m\n",
      "\u001b[0;32m~/Documents/phd/D2D-PPO/algorithms/ippo.py\u001b[0m in \u001b[0;36mselect_action\u001b[0;34m(self, state, train)\u001b[0m\n\u001b[1;32m    155\u001b[0m         \u001b[0;32melse\u001b[0m\u001b[0;34m:\u001b[0m\u001b[0;34m\u001b[0m\u001b[0;34m\u001b[0m\u001b[0m\n\u001b[1;32m    156\u001b[0m             \u001b[0maction\u001b[0m \u001b[0;34m=\u001b[0m \u001b[0mprobs\u001b[0m\u001b[0;34m.\u001b[0m\u001b[0margmax\u001b[0m\u001b[0;34m(\u001b[0m\u001b[0mdim\u001b[0m\u001b[0;34m=\u001b[0m\u001b[0;36m1\u001b[0m\u001b[0;34m)\u001b[0m\u001b[0;34m\u001b[0m\u001b[0;34m\u001b[0m\u001b[0m\n\u001b[0;32m--> 157\u001b[0;31m         \u001b[0mlog_prob\u001b[0m \u001b[0;34m=\u001b[0m \u001b[0mdist\u001b[0m\u001b[0;34m.\u001b[0m\u001b[0mlog_prob\u001b[0m\u001b[0;34m(\u001b[0m\u001b[0maction\u001b[0m\u001b[0;34m)\u001b[0m\u001b[0;34m\u001b[0m\u001b[0;34m\u001b[0m\u001b[0m\n\u001b[0m\u001b[1;32m    158\u001b[0m         \u001b[0mentropy\u001b[0m \u001b[0;34m=\u001b[0m \u001b[0mdist\u001b[0m\u001b[0;34m.\u001b[0m\u001b[0mentropy\u001b[0m\u001b[0;34m(\u001b[0m\u001b[0;34m)\u001b[0m\u001b[0;34m\u001b[0m\u001b[0;34m\u001b[0m\u001b[0m\n\u001b[1;32m    159\u001b[0m \u001b[0;34m\u001b[0m\u001b[0m\n",
      "\u001b[0;32m~/opt/anaconda3/lib/python3.9/site-packages/torch/distributions/categorical.py\u001b[0m in \u001b[0;36mlog_prob\u001b[0;34m(self, value)\u001b[0m\n\u001b[1;32m    121\u001b[0m     \u001b[0;32mdef\u001b[0m \u001b[0mlog_prob\u001b[0m\u001b[0;34m(\u001b[0m\u001b[0mself\u001b[0m\u001b[0;34m,\u001b[0m \u001b[0mvalue\u001b[0m\u001b[0;34m)\u001b[0m\u001b[0;34m:\u001b[0m\u001b[0;34m\u001b[0m\u001b[0;34m\u001b[0m\u001b[0m\n\u001b[1;32m    122\u001b[0m         \u001b[0;32mif\u001b[0m \u001b[0mself\u001b[0m\u001b[0;34m.\u001b[0m\u001b[0m_validate_args\u001b[0m\u001b[0;34m:\u001b[0m\u001b[0;34m\u001b[0m\u001b[0;34m\u001b[0m\u001b[0m\n\u001b[0;32m--> 123\u001b[0;31m             \u001b[0mself\u001b[0m\u001b[0;34m.\u001b[0m\u001b[0m_validate_sample\u001b[0m\u001b[0;34m(\u001b[0m\u001b[0mvalue\u001b[0m\u001b[0;34m)\u001b[0m\u001b[0;34m\u001b[0m\u001b[0;34m\u001b[0m\u001b[0m\n\u001b[0m\u001b[1;32m    124\u001b[0m         \u001b[0mvalue\u001b[0m \u001b[0;34m=\u001b[0m \u001b[0mvalue\u001b[0m\u001b[0;34m.\u001b[0m\u001b[0mlong\u001b[0m\u001b[0;34m(\u001b[0m\u001b[0;34m)\u001b[0m\u001b[0;34m.\u001b[0m\u001b[0munsqueeze\u001b[0m\u001b[0;34m(\u001b[0m\u001b[0;34m-\u001b[0m\u001b[0;36m1\u001b[0m\u001b[0;34m)\u001b[0m\u001b[0;34m\u001b[0m\u001b[0;34m\u001b[0m\u001b[0m\n\u001b[1;32m    125\u001b[0m         \u001b[0mvalue\u001b[0m\u001b[0;34m,\u001b[0m \u001b[0mlog_pmf\u001b[0m \u001b[0;34m=\u001b[0m \u001b[0mtorch\u001b[0m\u001b[0;34m.\u001b[0m\u001b[0mbroadcast_tensors\u001b[0m\u001b[0;34m(\u001b[0m\u001b[0mvalue\u001b[0m\u001b[0;34m,\u001b[0m \u001b[0mself\u001b[0m\u001b[0;34m.\u001b[0m\u001b[0mlogits\u001b[0m\u001b[0;34m)\u001b[0m\u001b[0;34m\u001b[0m\u001b[0;34m\u001b[0m\u001b[0m\n",
      "\u001b[0;32m~/opt/anaconda3/lib/python3.9/site-packages/torch/distributions/distribution.py\u001b[0m in \u001b[0;36m_validate_sample\u001b[0;34m(self, value)\u001b[0m\n\u001b[1;32m    291\u001b[0m         \u001b[0;32massert\u001b[0m \u001b[0msupport\u001b[0m \u001b[0;32mis\u001b[0m \u001b[0;32mnot\u001b[0m \u001b[0;32mNone\u001b[0m\u001b[0;34m\u001b[0m\u001b[0;34m\u001b[0m\u001b[0m\n\u001b[1;32m    292\u001b[0m         \u001b[0mvalid\u001b[0m \u001b[0;34m=\u001b[0m \u001b[0msupport\u001b[0m\u001b[0;34m.\u001b[0m\u001b[0mcheck\u001b[0m\u001b[0;34m(\u001b[0m\u001b[0mvalue\u001b[0m\u001b[0;34m)\u001b[0m\u001b[0;34m\u001b[0m\u001b[0;34m\u001b[0m\u001b[0m\n\u001b[0;32m--> 293\u001b[0;31m         \u001b[0;32mif\u001b[0m \u001b[0;32mnot\u001b[0m \u001b[0mvalid\u001b[0m\u001b[0;34m.\u001b[0m\u001b[0mall\u001b[0m\u001b[0;34m(\u001b[0m\u001b[0;34m)\u001b[0m\u001b[0;34m:\u001b[0m\u001b[0;34m\u001b[0m\u001b[0;34m\u001b[0m\u001b[0m\n\u001b[0m\u001b[1;32m    294\u001b[0m             raise ValueError(\n\u001b[1;32m    295\u001b[0m                 \u001b[0;34m\"Expected value argument \"\u001b[0m\u001b[0;34m\u001b[0m\u001b[0;34m\u001b[0m\u001b[0m\n",
      "\u001b[0;31mKeyboardInterrupt\u001b[0m: "
     ]
    }
   ],
   "source": [
    "ippo.train(5000, 15)"
   ]
  },
  {
   "cell_type": "code",
   "execution_count": 65,
   "id": "bbd0cbdd",
   "metadata": {},
   "outputs": [],
   "source": [
    "ippo = iPPO(env, useRNN=True, history_len=4)\n"
   ]
  },
  {
   "cell_type": "code",
   "execution_count": 66,
   "id": "5aec8093",
   "metadata": {},
   "outputs": [
    {
     "data": {
      "text/plain": [
       "(0.6206534018161278, 0.7302501071525931, 0, 30.6)"
      ]
     },
     "execution_count": 66,
     "metadata": {},
     "output_type": "execute_result"
    }
   ],
   "source": [
    "ippo.test(10)"
   ]
  },
  {
   "cell_type": "code",
   "execution_count": 67,
   "id": "dd57a5f3",
   "metadata": {},
   "outputs": [
    {
     "name": "stdout",
     "output_type": "stream",
     "text": [
      "Episode: 0, mean score rollout: 0.9007565042566789 Score test: (0.7286679489645607, 0.7696122392763901, 0, 35.66)\n"
     ]
    },
    {
     "ename": "KeyboardInterrupt",
     "evalue": "",
     "output_type": "error",
     "traceback": [
      "\u001b[0;31m---------------------------------------------------------------------------\u001b[0m",
      "\u001b[0;31mKeyboardInterrupt\u001b[0m                         Traceback (most recent call last)",
      "\u001b[0;32m/var/folders/dd/yfjv716n6r7_2w8w_lv151d80000gn/T/ipykernel_50435/3203391164.py\u001b[0m in \u001b[0;36m<module>\u001b[0;34m\u001b[0m\n\u001b[0;32m----> 1\u001b[0;31m \u001b[0mres\u001b[0m \u001b[0;34m=\u001b[0m \u001b[0mippo\u001b[0m\u001b[0;34m.\u001b[0m\u001b[0mtrain\u001b[0m\u001b[0;34m(\u001b[0m\u001b[0;36m5000\u001b[0m\u001b[0;34m,\u001b[0m \u001b[0;36m10\u001b[0m\u001b[0;34m,\u001b[0m \u001b[0;36m500\u001b[0m\u001b[0;34m)\u001b[0m\u001b[0;34m\u001b[0m\u001b[0;34m\u001b[0m\u001b[0m\n\u001b[0m",
      "\u001b[0;32m~/Documents/phd/D2D-PPO/algorithms/ippo.py\u001b[0m in \u001b[0;36mtrain\u001b[0;34m(self, num_iter, num_episodes, test_freq)\u001b[0m\n\u001b[1;32m    420\u001b[0m \u001b[0;34m\u001b[0m\u001b[0m\n\u001b[1;32m    421\u001b[0m         \u001b[0;32mfor\u001b[0m \u001b[0miter\u001b[0m \u001b[0;32min\u001b[0m \u001b[0mrange\u001b[0m\u001b[0;34m(\u001b[0m\u001b[0mnum_iter\u001b[0m\u001b[0;34m)\u001b[0m\u001b[0;34m:\u001b[0m\u001b[0;34m\u001b[0m\u001b[0;34m\u001b[0m\u001b[0m\n\u001b[0;32m--> 422\u001b[0;31m             \u001b[0mobs\u001b[0m\u001b[0;34m,\u001b[0m \u001b[0mactions\u001b[0m\u001b[0;34m,\u001b[0m \u001b[0mlog_probs_old\u001b[0m\u001b[0;34m,\u001b[0m \u001b[0mreturns\u001b[0m\u001b[0;34m,\u001b[0m \u001b[0m_\u001b[0m\u001b[0;34m,\u001b[0m \u001b[0madvantages\u001b[0m\u001b[0;34m,\u001b[0m \u001b[0mscores\u001b[0m\u001b[0;34m,\u001b[0m \u001b[0m_\u001b[0m \u001b[0;34m=\u001b[0m \u001b[0mself\u001b[0m\u001b[0;34m.\u001b[0m\u001b[0mcreate_rollouts\u001b[0m\u001b[0;34m(\u001b[0m\u001b[0mnum_episodes\u001b[0m\u001b[0;34m)\u001b[0m\u001b[0;34m\u001b[0m\u001b[0;34m\u001b[0m\u001b[0m\n\u001b[0m\u001b[1;32m    423\u001b[0m \u001b[0;34m\u001b[0m\u001b[0m\n\u001b[1;32m    424\u001b[0m             \u001b[0;31m# Shape: (len_trajectory * num agents)\u001b[0m\u001b[0;34m\u001b[0m\u001b[0;34m\u001b[0m\u001b[0m\n",
      "\u001b[0;32m~/Documents/phd/D2D-PPO/algorithms/ippo.py\u001b[0m in \u001b[0;36mcreate_rollouts\u001b[0;34m(self, num_episodes)\u001b[0m\n\u001b[1;32m    322\u001b[0m                         \u001b[0mhistory_tensor\u001b[0m \u001b[0;34m=\u001b[0m \u001b[0mtorch\u001b[0m\u001b[0;34m.\u001b[0m\u001b[0mstack\u001b[0m\u001b[0;34m(\u001b[0m\u001b[0mobservations\u001b[0m\u001b[0;34m[\u001b[0m\u001b[0mstr\u001b[0m\u001b[0;34m(\u001b[0m\u001b[0mi\u001b[0m\u001b[0;34m)\u001b[0m\u001b[0;34m]\u001b[0m\u001b[0;34m[\u001b[0m\u001b[0me\u001b[0m\u001b[0;34m*\u001b[0m\u001b[0mself\u001b[0m\u001b[0;34m.\u001b[0m\u001b[0menv\u001b[0m\u001b[0;34m.\u001b[0m\u001b[0mepisode_length\u001b[0m\u001b[0;34m:\u001b[0m\u001b[0;34m]\u001b[0m\u001b[0;34m[\u001b[0m\u001b[0;34m-\u001b[0m\u001b[0mself\u001b[0m\u001b[0;34m.\u001b[0m\u001b[0mhistory_len\u001b[0m\u001b[0;34m:\u001b[0m\u001b[0;34m]\u001b[0m\u001b[0;34m)\u001b[0m \u001b[0;31m# shape: (history_len, input_len)\u001b[0m\u001b[0;34m\u001b[0m\u001b[0;34m\u001b[0m\u001b[0m\n\u001b[1;32m    323\u001b[0m                         \u001b[0maction\u001b[0m\u001b[0;34m,\u001b[0m \u001b[0mlog_prob\u001b[0m\u001b[0;34m,\u001b[0m \u001b[0mentropy\u001b[0m \u001b[0;34m=\u001b[0m \u001b[0magent\u001b[0m\u001b[0;34m.\u001b[0m\u001b[0mselect_action\u001b[0m\u001b[0;34m(\u001b[0m\u001b[0mhistory_tensor\u001b[0m\u001b[0;34m,\u001b[0m \u001b[0mtrain\u001b[0m\u001b[0;34m=\u001b[0m\u001b[0;32mTrue\u001b[0m\u001b[0;34m)\u001b[0m\u001b[0;34m\u001b[0m\u001b[0;34m\u001b[0m\u001b[0m\n\u001b[0;32m--> 324\u001b[0;31m                         \u001b[0mvalue\u001b[0m \u001b[0;34m=\u001b[0m \u001b[0magent\u001b[0m\u001b[0;34m.\u001b[0m\u001b[0mvalue_network\u001b[0m\u001b[0;34m(\u001b[0m\u001b[0mhistory_tensor\u001b[0m\u001b[0;34m)\u001b[0m\u001b[0;34m.\u001b[0m\u001b[0mitem\u001b[0m\u001b[0;34m(\u001b[0m\u001b[0;34m)\u001b[0m\u001b[0;34m\u001b[0m\u001b[0;34m\u001b[0m\u001b[0m\n\u001b[0m\u001b[1;32m    325\u001b[0m                     \u001b[0;32melse\u001b[0m\u001b[0;34m:\u001b[0m\u001b[0;34m\u001b[0m\u001b[0;34m\u001b[0m\u001b[0m\n\u001b[1;32m    326\u001b[0m                         \u001b[0maction\u001b[0m\u001b[0;34m,\u001b[0m \u001b[0mlog_prob\u001b[0m\u001b[0;34m,\u001b[0m \u001b[0mentropy\u001b[0m \u001b[0;34m=\u001b[0m \u001b[0magent\u001b[0m\u001b[0;34m.\u001b[0m\u001b[0mselect_action\u001b[0m\u001b[0;34m(\u001b[0m\u001b[0mobs_agent\u001b[0m\u001b[0;34m,\u001b[0m \u001b[0mtrain\u001b[0m\u001b[0;34m=\u001b[0m\u001b[0;32mTrue\u001b[0m\u001b[0;34m)\u001b[0m\u001b[0;34m\u001b[0m\u001b[0;34m\u001b[0m\u001b[0m\n",
      "\u001b[0;32m~/opt/anaconda3/lib/python3.9/site-packages/torch/nn/modules/module.py\u001b[0m in \u001b[0;36m_call_impl\u001b[0;34m(self, *input, **kwargs)\u001b[0m\n\u001b[1;32m   1188\u001b[0m         if not (self._backward_hooks or self._forward_hooks or self._forward_pre_hooks or _global_backward_hooks\n\u001b[1;32m   1189\u001b[0m                 or _global_forward_hooks or _global_forward_pre_hooks):\n\u001b[0;32m-> 1190\u001b[0;31m             \u001b[0;32mreturn\u001b[0m \u001b[0mforward_call\u001b[0m\u001b[0;34m(\u001b[0m\u001b[0;34m*\u001b[0m\u001b[0minput\u001b[0m\u001b[0;34m,\u001b[0m \u001b[0;34m**\u001b[0m\u001b[0mkwargs\u001b[0m\u001b[0;34m)\u001b[0m\u001b[0;34m\u001b[0m\u001b[0;34m\u001b[0m\u001b[0m\n\u001b[0m\u001b[1;32m   1191\u001b[0m         \u001b[0;31m# Do not call functions when jit is used\u001b[0m\u001b[0;34m\u001b[0m\u001b[0;34m\u001b[0m\u001b[0m\n\u001b[1;32m   1192\u001b[0m         \u001b[0mfull_backward_hooks\u001b[0m\u001b[0;34m,\u001b[0m \u001b[0mnon_full_backward_hooks\u001b[0m \u001b[0;34m=\u001b[0m \u001b[0;34m[\u001b[0m\u001b[0;34m]\u001b[0m\u001b[0;34m,\u001b[0m \u001b[0;34m[\u001b[0m\u001b[0;34m]\u001b[0m\u001b[0;34m\u001b[0m\u001b[0;34m\u001b[0m\u001b[0m\n",
      "\u001b[0;32m~/Documents/phd/D2D-PPO/algorithms/ippo.py\u001b[0m in \u001b[0;36mforward\u001b[0;34m(self, obs)\u001b[0m\n\u001b[1;32m     41\u001b[0m         \u001b[0mbatch_size\u001b[0m \u001b[0;34m=\u001b[0m \u001b[0mobs\u001b[0m\u001b[0;34m.\u001b[0m\u001b[0msize\u001b[0m\u001b[0;34m(\u001b[0m\u001b[0;36m0\u001b[0m\u001b[0;34m)\u001b[0m\u001b[0;34m\u001b[0m\u001b[0;34m\u001b[0m\u001b[0m\n\u001b[1;32m     42\u001b[0m         \u001b[0mself\u001b[0m\u001b[0;34m.\u001b[0m\u001b[0mhidden\u001b[0m \u001b[0;34m=\u001b[0m \u001b[0mself\u001b[0m\u001b[0;34m.\u001b[0m\u001b[0minit_hidden\u001b[0m\u001b[0;34m(\u001b[0m\u001b[0mbatch_size\u001b[0m\u001b[0;34m=\u001b[0m\u001b[0mbatch_size\u001b[0m\u001b[0;34m)\u001b[0m\u001b[0;34m\u001b[0m\u001b[0;34m\u001b[0m\u001b[0m\n\u001b[0;32m---> 43\u001b[0;31m         \u001b[0mlstm_out\u001b[0m\u001b[0;34m,\u001b[0m \u001b[0mself\u001b[0m\u001b[0;34m.\u001b[0m\u001b[0mhidden\u001b[0m \u001b[0;34m=\u001b[0m \u001b[0mself\u001b[0m\u001b[0;34m.\u001b[0m\u001b[0mlstm\u001b[0m\u001b[0;34m(\u001b[0m\u001b[0mobs\u001b[0m\u001b[0;34m.\u001b[0m\u001b[0mpermute\u001b[0m\u001b[0;34m(\u001b[0m\u001b[0;36m1\u001b[0m\u001b[0;34m,\u001b[0m \u001b[0;36m0\u001b[0m\u001b[0;34m,\u001b[0m \u001b[0;36m2\u001b[0m\u001b[0;34m)\u001b[0m\u001b[0;34m)\u001b[0m\u001b[0;34m\u001b[0m\u001b[0;34m\u001b[0m\u001b[0m\n\u001b[0m\u001b[1;32m     44\u001b[0m         \u001b[0mout\u001b[0m \u001b[0;34m=\u001b[0m \u001b[0mlstm_out\u001b[0m\u001b[0;34m[\u001b[0m\u001b[0;34m-\u001b[0m\u001b[0;36m1\u001b[0m\u001b[0;34m]\u001b[0m\u001b[0;34m\u001b[0m\u001b[0;34m\u001b[0m\u001b[0m\n\u001b[1;32m     45\u001b[0m         \u001b[0mout\u001b[0m \u001b[0;34m=\u001b[0m \u001b[0mself\u001b[0m\u001b[0;34m.\u001b[0m\u001b[0mlayers\u001b[0m\u001b[0;34m(\u001b[0m\u001b[0mout\u001b[0m\u001b[0;34m)\u001b[0m\u001b[0;34m\u001b[0m\u001b[0;34m\u001b[0m\u001b[0m\n",
      "\u001b[0;32m~/opt/anaconda3/lib/python3.9/site-packages/torch/nn/modules/module.py\u001b[0m in \u001b[0;36m_call_impl\u001b[0;34m(self, *input, **kwargs)\u001b[0m\n\u001b[1;32m   1188\u001b[0m         if not (self._backward_hooks or self._forward_hooks or self._forward_pre_hooks or _global_backward_hooks\n\u001b[1;32m   1189\u001b[0m                 or _global_forward_hooks or _global_forward_pre_hooks):\n\u001b[0;32m-> 1190\u001b[0;31m             \u001b[0;32mreturn\u001b[0m \u001b[0mforward_call\u001b[0m\u001b[0;34m(\u001b[0m\u001b[0;34m*\u001b[0m\u001b[0minput\u001b[0m\u001b[0;34m,\u001b[0m \u001b[0;34m**\u001b[0m\u001b[0mkwargs\u001b[0m\u001b[0;34m)\u001b[0m\u001b[0;34m\u001b[0m\u001b[0;34m\u001b[0m\u001b[0m\n\u001b[0m\u001b[1;32m   1191\u001b[0m         \u001b[0;31m# Do not call functions when jit is used\u001b[0m\u001b[0;34m\u001b[0m\u001b[0;34m\u001b[0m\u001b[0m\n\u001b[1;32m   1192\u001b[0m         \u001b[0mfull_backward_hooks\u001b[0m\u001b[0;34m,\u001b[0m \u001b[0mnon_full_backward_hooks\u001b[0m \u001b[0;34m=\u001b[0m \u001b[0;34m[\u001b[0m\u001b[0;34m]\u001b[0m\u001b[0;34m,\u001b[0m \u001b[0;34m[\u001b[0m\u001b[0;34m]\u001b[0m\u001b[0;34m\u001b[0m\u001b[0;34m\u001b[0m\u001b[0m\n",
      "\u001b[0;32m~/opt/anaconda3/lib/python3.9/site-packages/torch/nn/modules/rnn.py\u001b[0m in \u001b[0;36mforward\u001b[0;34m(self, input, hx)\u001b[0m\n\u001b[1;32m    953\u001b[0m         \u001b[0mself\u001b[0m\u001b[0;34m.\u001b[0m\u001b[0mcheck_forward_args\u001b[0m\u001b[0;34m(\u001b[0m\u001b[0minput\u001b[0m\u001b[0;34m,\u001b[0m \u001b[0mhx\u001b[0m\u001b[0;34m,\u001b[0m \u001b[0mbatch_sizes\u001b[0m\u001b[0;34m)\u001b[0m\u001b[0;34m\u001b[0m\u001b[0;34m\u001b[0m\u001b[0m\n\u001b[1;32m    954\u001b[0m         \u001b[0;32mif\u001b[0m \u001b[0mbatch_sizes\u001b[0m \u001b[0;32mis\u001b[0m \u001b[0;32mNone\u001b[0m\u001b[0;34m:\u001b[0m\u001b[0;34m\u001b[0m\u001b[0;34m\u001b[0m\u001b[0m\n\u001b[0;32m--> 955\u001b[0;31m             result = _VF.gru(input, hx, self._flat_weights, self.bias, self.num_layers,\n\u001b[0m\u001b[1;32m    956\u001b[0m                              self.dropout, self.training, self.bidirectional, self.batch_first)\n\u001b[1;32m    957\u001b[0m         \u001b[0;32melse\u001b[0m\u001b[0;34m:\u001b[0m\u001b[0;34m\u001b[0m\u001b[0;34m\u001b[0m\u001b[0m\n",
      "\u001b[0;31mKeyboardInterrupt\u001b[0m: "
     ]
    }
   ],
   "source": [
    "res = ippo.train(5000, 10, 500)"
   ]
  },
  {
   "cell_type": "code",
   "execution_count": null,
   "id": "5dcbaba7",
   "metadata": {},
   "outputs": [],
   "source": []
  },
  {
   "cell_type": "code",
   "execution_count": null,
   "id": "80378b6e",
   "metadata": {},
   "outputs": [],
   "source": []
  },
  {
   "cell_type": "code",
   "execution_count": 10,
   "id": "3919bcd9",
   "metadata": {},
   "outputs": [],
   "source": [
    "observations = {f\"{i}\": [] for i in range(n_agents)}\n",
    "obs, (buffer_state, channel_state) = env.reset()\n",
    "done = False\n",
    "while not done:\n",
    "    for i in range(n_agents):\n",
    "        obs_agent = torch.tensor(obs[i], dtype=torch.float)\n",
    "        observations[str(i)].append(obs_agent)\n",
    "    action_agent = []\n",
    "    log_prob_agent = []\n",
    "    # entropy_agent = []\n",
    "    value_agent = []\n",
    "    actions = np.array(env.action_space.sample())\n",
    "    next_obs, next_state, reward, done, _ = env.step(actions)\n",
    "    obs = next_obs\n",
    "    "
   ]
  },
  {
   "cell_type": "code",
   "execution_count": 9,
   "id": "973ca5b6",
   "metadata": {},
   "outputs": [],
   "source": [
    "res = ippo.create_rollouts(10)"
   ]
  },
  {
   "cell_type": "code",
   "execution_count": 10,
   "id": "4531011e",
   "metadata": {},
   "outputs": [],
   "source": [
    "obs = res[0]"
   ]
  },
  {
   "cell_type": "code",
   "execution_count": 13,
   "id": "2e649502",
   "metadata": {},
   "outputs": [
    {
     "data": {
      "text/plain": [
       "torch.Size([2000, 33])"
      ]
     },
     "execution_count": 13,
     "metadata": {},
     "output_type": "execute_result"
    }
   ],
   "source": [
    "obs[2].shape"
   ]
  },
  {
   "cell_type": "code",
   "execution_count": 21,
   "id": "3c5fea30",
   "metadata": {},
   "outputs": [],
   "source": [
    "obs_agent_rnn = ippo.preprocess_input_for_rnn(obs[2])\n",
    "actions = res[1][:, 2]"
   ]
  },
  {
   "cell_type": "code",
   "execution_count": 24,
   "id": "96a98366",
   "metadata": {},
   "outputs": [
    {
     "data": {
      "text/plain": [
       "(tensor([-0.3803, -0.2641, -0.2468,  ..., -0.2348, -1.2753, -1.0643],\n",
       "        grad_fn=<SqueezeBackward1>),\n",
       " tensor([0.6241, 0.5418, 0.5253,  ..., 0.5130, 0.5923, 0.6443],\n",
       "        grad_fn=<NegBackward0>))"
      ]
     },
     "execution_count": 24,
     "metadata": {},
     "output_type": "execute_result"
    }
   ],
   "source": [
    "ippo.agents[2].evaluate(obs_agent_rnn, actions)"
   ]
  },
  {
   "cell_type": "code",
   "execution_count": 28,
   "id": "df5cc699",
   "metadata": {},
   "outputs": [
    {
     "data": {
      "text/plain": [
       "tensor([-0.0865,  0.0634, -0.1090,  ..., -0.5924, -0.6745, -0.8581],\n",
       "       grad_fn=<SqueezeBackward0>)"
      ]
     },
     "execution_count": 28,
     "metadata": {},
     "output_type": "execute_result"
    }
   ],
   "source": [
    "ippo.agents[2].value_network(obs_agent_rnn).squeeze()"
   ]
  },
  {
   "cell_type": "code",
   "execution_count": null,
   "id": "1b02be09",
   "metadata": {},
   "outputs": [],
   "source": []
  },
  {
   "cell_type": "code",
   "execution_count": 58,
   "id": "ff069388",
   "metadata": {},
   "outputs": [],
   "source": [
    "obs_agent = res[0][0]"
   ]
  },
  {
   "cell_type": "code",
   "execution_count": 60,
   "id": "4c28d14d",
   "metadata": {},
   "outputs": [
    {
     "data": {
      "text/plain": [
       "5"
      ]
     },
     "execution_count": 60,
     "metadata": {},
     "output_type": "execute_result"
    }
   ],
   "source": [
    "205%200"
   ]
  },
  {
   "cell_type": "code",
   "execution_count": 59,
   "id": "67b89153",
   "metadata": {},
   "outputs": [
    {
     "data": {
      "text/plain": [
       "tensor([[0., 0., 0.,  ..., 1., 1., 0.],\n",
       "        [0., 0., 0.,  ..., 1., 1., 0.],\n",
       "        [0., 0., 0.,  ..., 1., 1., 0.],\n",
       "        ...,\n",
       "        [0., 0., 0.,  ..., 1., 1., 1.],\n",
       "        [0., 0., 0.,  ..., 1., 1., 1.],\n",
       "        [0., 0., 0.,  ..., 1., 1., 0.]])"
      ]
     },
     "execution_count": 59,
     "metadata": {},
     "output_type": "execute_result"
    }
   ],
   "source": [
    "obs_agent[205]"
   ]
  },
  {
   "cell_type": "code",
   "execution_count": null,
   "id": "05374258",
   "metadata": {},
   "outputs": [],
   "source": []
  },
  {
   "cell_type": "code",
   "execution_count": 19,
   "id": "772799f1",
   "metadata": {},
   "outputs": [
    {
     "data": {
      "text/plain": [
       "tensor([[0.7539, 0.2461]], grad_fn=<SoftmaxBackward0>)"
      ]
     },
     "execution_count": 19,
     "metadata": {},
     "output_type": "execute_result"
    }
   ],
   "source": [
    "ippo.agents[0].policy_network(torch.stack(observations['0'])[-4:])"
   ]
  },
  {
   "cell_type": "code",
   "execution_count": 21,
   "id": "0a2ace18",
   "metadata": {},
   "outputs": [],
   "source": [
    "res = ippo.create_rollouts(10)"
   ]
  },
  {
   "cell_type": "code",
   "execution_count": 26,
   "id": "9ee72e07",
   "metadata": {},
   "outputs": [
    {
     "data": {
      "text/plain": [
       "torch.Size([2000, 33])"
      ]
     },
     "execution_count": 26,
     "metadata": {},
     "output_type": "execute_result"
    }
   ],
   "source": [
    "res[0][0].shape"
   ]
  },
  {
   "cell_type": "code",
   "execution_count": 33,
   "id": "f65c91c7",
   "metadata": {},
   "outputs": [
    {
     "data": {
      "text/plain": [
       "50"
      ]
     },
     "execution_count": 33,
     "metadata": {},
     "output_type": "execute_result"
    }
   ],
   "source": [
    "450%200"
   ]
  },
  {
   "cell_type": "code",
   "execution_count": 130,
   "id": "fc350511",
   "metadata": {},
   "outputs": [],
   "source": [
    "# How to create new train tensor.\n",
    "history_len = 10\n",
    "obsss = []\n",
    "for i in range(obs_agent.size(0)):\n",
    "    idx = i % 200\n",
    "    if idx < history_len:\n",
    "        x = obs_agent[i-idx:i+1]\n",
    "        pad_len = history_len - (idx + 1)\n",
    "        x = torch.cat([torch.zeros((pad_len, 33)), x])\n",
    "    else:\n",
    "        x = obs_agent[i+1-history_len:i+1]\n",
    "    obsss.append(x)\n"
   ]
  },
  {
   "cell_type": "code",
   "execution_count": 132,
   "id": "7fb53f9b",
   "metadata": {},
   "outputs": [],
   "source": [
    "obsss = torch.stack(obsss)"
   ]
  },
  {
   "cell_type": "code",
   "execution_count": 134,
   "id": "b00af398",
   "metadata": {},
   "outputs": [
    {
     "data": {
      "text/plain": [
       "torch.Size([2000, 10, 33])"
      ]
     },
     "execution_count": 134,
     "metadata": {},
     "output_type": "execute_result"
    }
   ],
   "source": [
    "obsss.shape"
   ]
  },
  {
   "cell_type": "code",
   "execution_count": 95,
   "id": "900de4d7",
   "metadata": {},
   "outputs": [
    {
     "data": {
      "text/plain": [
       "tensor([0., 0., 0., 0., 0., 0., 0., 0., 0., 0., 0., 0., 0., 0., 0., 0., 0., 0.,\n",
       "        0., 0., 0., 0., 0., 0., 0., 0., 0., 0., 1., 1., 1., 1., 0.])"
      ]
     },
     "execution_count": 95,
     "metadata": {},
     "output_type": "execute_result"
    }
   ],
   "source": [
    "obs_agent[7]"
   ]
  },
  {
   "cell_type": "code",
   "execution_count": null,
   "id": "1d95fe6c",
   "metadata": {},
   "outputs": [],
   "source": []
  },
  {
   "cell_type": "code",
   "execution_count": 99,
   "id": "edd5a976",
   "metadata": {},
   "outputs": [
    {
     "data": {
      "text/plain": [
       "tensor([[0., 0., 0., 0., 0., 0., 0., 0., 0., 0., 0., 0., 0., 0., 0., 0., 0., 0.,\n",
       "         0., 0., 0., 0., 0., 0., 0., 0., 0., 0., 1., 1., 1., 1., 0.],\n",
       "        [0., 0., 0., 0., 0., 0., 0., 0., 0., 0., 0., 0., 0., 0., 0., 0., 0., 0.,\n",
       "         0., 0., 0., 0., 0., 0., 0., 0., 0., 0., 1., 1., 1., 1., 0.],\n",
       "        [0., 0., 0., 0., 0., 0., 0., 0., 0., 0., 0., 0., 0., 0., 0., 0., 0., 0.,\n",
       "         0., 0., 0., 0., 0., 0., 0., 0., 0., 0., 1., 1., 1., 1., 0.],\n",
       "        [0., 0., 0., 0., 0., 0., 0., 0., 0., 0., 0., 0., 0., 0., 0., 0., 0., 0.,\n",
       "         0., 0., 0., 0., 0., 0., 0., 0., 0., 0., 1., 1., 1., 1., 0.],\n",
       "        [0., 0., 0., 0., 0., 0., 0., 0., 0., 0., 0., 0., 0., 0., 0., 0., 0., 0.,\n",
       "         0., 0., 0., 0., 0., 0., 0., 0., 0., 0., 1., 1., 1., 1., 0.],\n",
       "        [0., 0., 0., 0., 0., 0., 0., 0., 0., 0., 0., 0., 0., 0., 0., 0., 0., 0.,\n",
       "         0., 0., 0., 0., 0., 0., 0., 0., 0., 0., 1., 1., 1., 1., 0.],\n",
       "        [0., 0., 0., 0., 0., 0., 0., 0., 0., 0., 0., 0., 0., 0., 0., 0., 0., 0.,\n",
       "         0., 0., 0., 0., 0., 0., 0., 0., 0., 0., 1., 1., 1., 1., 0.]])"
      ]
     },
     "execution_count": 99,
     "metadata": {},
     "output_type": "execute_result"
    }
   ],
   "source": [
    "obs_agent[7+1-7:8]"
   ]
  },
  {
   "cell_type": "code",
   "execution_count": 94,
   "id": "f8978c5a",
   "metadata": {},
   "outputs": [
    {
     "data": {
      "text/plain": [
       "torch.Size([10, 33])"
      ]
     },
     "execution_count": 94,
     "metadata": {},
     "output_type": "execute_result"
    }
   ],
   "source": [
    "obs_agent[16-10:15+1].shape"
   ]
  },
  {
   "cell_type": "code",
   "execution_count": 87,
   "id": "82773907",
   "metadata": {},
   "outputs": [
    {
     "data": {
      "text/plain": [
       "torch.Size([1, 33])"
      ]
     },
     "execution_count": 87,
     "metadata": {},
     "output_type": "execute_result"
    }
   ],
   "source": [
    "x.shape"
   ]
  },
  {
   "cell_type": "code",
   "execution_count": 90,
   "id": "1789f40c",
   "metadata": {
    "scrolled": true
   },
   "outputs": [
    {
     "data": {
      "text/plain": [
       "torch.Size([10, 33])"
      ]
     },
     "execution_count": 90,
     "metadata": {},
     "output_type": "execute_result"
    }
   ],
   "source": [
    "torch.cat([torch.zeros((9, 33)), x]).shape"
   ]
  },
  {
   "cell_type": "code",
   "execution_count": 29,
   "id": "c4ae4d19",
   "metadata": {},
   "outputs": [],
   "source": [
    "test_tensor = torch.rand(600, 33)"
   ]
  },
  {
   "cell_type": "code",
   "execution_count": 30,
   "id": "fd919a8d",
   "metadata": {},
   "outputs": [],
   "source": [
    "ptest_tensor = ippo.preprocess_input_for_rnn(test_tensor)"
   ]
  },
  {
   "cell_type": "code",
   "execution_count": 31,
   "id": "7cbf31fb",
   "metadata": {},
   "outputs": [
    {
     "data": {
      "text/plain": [
       "torch.Size([600, 10, 33])"
      ]
     },
     "execution_count": 31,
     "metadata": {},
     "output_type": "execute_result"
    }
   ],
   "source": [
    "ptest_tensor.shape"
   ]
  },
  {
   "cell_type": "code",
   "execution_count": 57,
   "id": "4be06731",
   "metadata": {},
   "outputs": [],
   "source": [
    "i=222\n",
    "idx = i % 200"
   ]
  },
  {
   "cell_type": "code",
   "execution_count": 58,
   "id": "261e14fe",
   "metadata": {
    "scrolled": true
   },
   "outputs": [
    {
     "data": {
      "text/plain": [
       "tensor([[3.3997e-01, 2.5090e-01, 6.6909e-01, 2.1557e-01, 6.5758e-01, 5.7883e-01,\n",
       "         3.2858e-01, 8.5916e-01, 2.8693e-01, 4.7698e-01, 7.1023e-01, 4.0618e-01,\n",
       "         1.3866e-03, 5.1685e-01, 3.4905e-01, 2.7537e-01, 8.2082e-01, 7.2810e-01,\n",
       "         8.6704e-01, 4.4474e-01, 3.9635e-01, 9.6113e-01, 2.7664e-01, 3.8474e-01,\n",
       "         7.0258e-01, 8.7287e-01, 9.5606e-01, 3.8938e-01, 1.4408e-01, 5.1847e-01,\n",
       "         2.1651e-01, 1.7511e-01, 8.8285e-01],\n",
       "        [8.3161e-01, 3.7239e-01, 2.0540e-01, 3.3372e-01, 6.2524e-01, 4.5304e-01,\n",
       "         8.8041e-01, 5.6246e-01, 2.5592e-01, 4.7346e-01, 9.1162e-01, 6.5149e-01,\n",
       "         5.4818e-01, 1.4216e-01, 8.7387e-01, 5.9864e-02, 2.0658e-01, 9.7297e-01,\n",
       "         6.4315e-01, 6.3057e-01, 7.7600e-01, 7.1735e-01, 4.0787e-01, 3.5411e-01,\n",
       "         4.8692e-01, 7.5918e-01, 6.8027e-01, 9.6588e-01, 4.3785e-01, 6.9255e-01,\n",
       "         4.7342e-01, 2.8989e-01, 3.3691e-01],\n",
       "        [8.2131e-01, 2.4383e-01, 4.0129e-01, 2.3240e-01, 7.4122e-01, 7.1310e-01,\n",
       "         2.9456e-02, 8.7480e-01, 8.5822e-02, 7.9437e-01, 5.2799e-01, 1.1458e-02,\n",
       "         8.1420e-01, 9.9850e-01, 4.2084e-01, 8.7727e-01, 2.8261e-01, 3.7823e-01,\n",
       "         2.0253e-01, 5.4915e-01, 8.2865e-01, 3.8494e-01, 5.0147e-01, 4.4687e-01,\n",
       "         2.6171e-01, 7.4336e-01, 5.5996e-01, 5.1607e-01, 7.8025e-01, 1.3816e-01,\n",
       "         7.1666e-01, 5.9491e-01, 6.2867e-02],\n",
       "        [3.6146e-01, 8.2850e-01, 6.1742e-02, 3.9799e-01, 4.3913e-01, 6.0400e-01,\n",
       "         1.7030e-01, 6.9907e-03, 3.8511e-01, 9.2348e-01, 1.5119e-01, 5.0666e-01,\n",
       "         2.2287e-01, 9.5759e-01, 3.3743e-01, 7.9386e-01, 3.4243e-01, 1.0939e-01,\n",
       "         8.0140e-01, 5.9070e-01, 6.4714e-01, 4.5639e-01, 1.1585e-01, 4.1964e-01,\n",
       "         4.2339e-01, 4.4018e-01, 2.8684e-01, 1.2228e-01, 9.9867e-02, 7.1749e-01,\n",
       "         3.8487e-01, 2.5313e-01, 7.0166e-01],\n",
       "        [6.0547e-01, 1.0110e-01, 2.2149e-01, 1.2421e-01, 4.4796e-01, 5.8742e-01,\n",
       "         6.1210e-01, 2.1556e-01, 6.2901e-01, 3.7988e-01, 6.7078e-01, 7.1247e-01,\n",
       "         6.9954e-01, 6.4533e-01, 2.8682e-02, 6.6317e-01, 9.0652e-01, 2.9728e-01,\n",
       "         1.4740e-01, 5.8702e-01, 5.2926e-01, 3.7648e-01, 4.9049e-02, 2.2399e-01,\n",
       "         2.1946e-01, 4.8653e-01, 9.8949e-02, 8.6051e-01, 6.1915e-01, 6.2161e-01,\n",
       "         2.2818e-01, 9.3254e-01, 3.9368e-01],\n",
       "        [1.6958e-01, 3.6002e-01, 7.9256e-02, 2.5266e-01, 8.9588e-01, 5.2334e-01,\n",
       "         4.4098e-01, 4.6799e-01, 4.3572e-01, 2.3011e-01, 7.1194e-01, 1.3749e-01,\n",
       "         5.6869e-01, 3.1659e-01, 9.6442e-01, 4.5268e-01, 9.5244e-01, 1.0545e-01,\n",
       "         5.3204e-02, 6.0630e-01, 6.5724e-01, 9.7969e-01, 1.6060e-02, 5.2433e-01,\n",
       "         4.3304e-01, 6.4553e-01, 5.7265e-01, 7.7496e-01, 5.7452e-01, 7.2874e-01,\n",
       "         6.0802e-01, 7.7240e-01, 2.9091e-01],\n",
       "        [1.6753e-01, 8.4747e-01, 4.4262e-01, 6.9238e-01, 4.0438e-01, 4.0368e-01,\n",
       "         8.5693e-01, 1.2445e-02, 2.0658e-02, 4.6442e-01, 6.8725e-01, 5.9172e-01,\n",
       "         7.4088e-01, 6.6272e-01, 8.6916e-01, 2.6143e-01, 7.8580e-01, 4.0243e-01,\n",
       "         6.8307e-01, 8.0680e-01, 4.8071e-01, 1.8586e-01, 6.2551e-01, 7.7346e-01,\n",
       "         3.9144e-01, 6.3182e-01, 3.8304e-02, 5.7523e-01, 1.9938e-02, 8.1110e-04,\n",
       "         9.2446e-01, 2.3852e-01, 7.1279e-01],\n",
       "        [4.9162e-01, 6.0527e-01, 7.7896e-01, 5.4917e-01, 1.6438e-01, 7.4922e-01,\n",
       "         1.0122e-01, 6.1088e-01, 6.1701e-01, 9.8542e-01, 6.6127e-01, 8.8491e-02,\n",
       "         1.6551e-01, 2.3470e-01, 8.0715e-01, 3.2237e-03, 4.4163e-01, 9.3979e-01,\n",
       "         2.4908e-01, 2.1386e-01, 1.7573e-03, 4.7469e-01, 4.6245e-02, 4.3917e-01,\n",
       "         1.4774e-01, 8.0791e-01, 8.6406e-01, 3.8104e-01, 3.4809e-05, 7.4026e-01,\n",
       "         3.3281e-01, 7.6257e-01, 5.2272e-01],\n",
       "        [5.7312e-01, 9.1936e-01, 3.5135e-01, 6.1725e-01, 1.2747e-01, 3.3592e-01,\n",
       "         9.7945e-01, 8.8506e-01, 8.9822e-01, 3.2098e-01, 9.6033e-01, 5.0332e-01,\n",
       "         9.5998e-01, 1.7699e-01, 7.1600e-01, 6.7242e-01, 6.1565e-01, 2.6478e-01,\n",
       "         1.7042e-02, 8.6582e-01, 4.5859e-01, 7.5893e-01, 8.4871e-01, 9.5478e-01,\n",
       "         3.6389e-01, 2.7004e-01, 1.5465e-01, 4.4222e-01, 9.9925e-01, 7.8383e-02,\n",
       "         2.4402e-01, 4.8047e-02, 2.5683e-01],\n",
       "        [3.9154e-01, 9.7719e-01, 4.4750e-01, 6.0052e-01, 6.9109e-01, 8.1698e-01,\n",
       "         2.8942e-01, 4.6792e-01, 5.9260e-01, 4.8903e-01, 4.9751e-01, 8.1003e-01,\n",
       "         9.8316e-01, 6.1308e-02, 8.1510e-01, 9.6997e-01, 8.5232e-01, 4.7346e-02,\n",
       "         8.7762e-01, 2.9753e-01, 9.8404e-01, 7.0944e-01, 7.7637e-01, 8.8497e-01,\n",
       "         2.9906e-03, 9.4525e-02, 3.4559e-01, 2.2219e-01, 9.3991e-01, 9.5897e-01,\n",
       "         7.8828e-01, 6.7853e-01, 5.6804e-01]])"
      ]
     },
     "execution_count": 58,
     "metadata": {},
     "output_type": "execute_result"
    }
   ],
   "source": [
    "test_tensor[i+1-10:i+1]"
   ]
  },
  {
   "cell_type": "code",
   "execution_count": 59,
   "id": "1266d3f3",
   "metadata": {
    "scrolled": true
   },
   "outputs": [
    {
     "data": {
      "text/plain": [
       "tensor([[3.3997e-01, 2.5090e-01, 6.6909e-01, 2.1557e-01, 6.5758e-01, 5.7883e-01,\n",
       "         3.2858e-01, 8.5916e-01, 2.8693e-01, 4.7698e-01, 7.1023e-01, 4.0618e-01,\n",
       "         1.3866e-03, 5.1685e-01, 3.4905e-01, 2.7537e-01, 8.2082e-01, 7.2810e-01,\n",
       "         8.6704e-01, 4.4474e-01, 3.9635e-01, 9.6113e-01, 2.7664e-01, 3.8474e-01,\n",
       "         7.0258e-01, 8.7287e-01, 9.5606e-01, 3.8938e-01, 1.4408e-01, 5.1847e-01,\n",
       "         2.1651e-01, 1.7511e-01, 8.8285e-01],\n",
       "        [8.3161e-01, 3.7239e-01, 2.0540e-01, 3.3372e-01, 6.2524e-01, 4.5304e-01,\n",
       "         8.8041e-01, 5.6246e-01, 2.5592e-01, 4.7346e-01, 9.1162e-01, 6.5149e-01,\n",
       "         5.4818e-01, 1.4216e-01, 8.7387e-01, 5.9864e-02, 2.0658e-01, 9.7297e-01,\n",
       "         6.4315e-01, 6.3057e-01, 7.7600e-01, 7.1735e-01, 4.0787e-01, 3.5411e-01,\n",
       "         4.8692e-01, 7.5918e-01, 6.8027e-01, 9.6588e-01, 4.3785e-01, 6.9255e-01,\n",
       "         4.7342e-01, 2.8989e-01, 3.3691e-01],\n",
       "        [8.2131e-01, 2.4383e-01, 4.0129e-01, 2.3240e-01, 7.4122e-01, 7.1310e-01,\n",
       "         2.9456e-02, 8.7480e-01, 8.5822e-02, 7.9437e-01, 5.2799e-01, 1.1458e-02,\n",
       "         8.1420e-01, 9.9850e-01, 4.2084e-01, 8.7727e-01, 2.8261e-01, 3.7823e-01,\n",
       "         2.0253e-01, 5.4915e-01, 8.2865e-01, 3.8494e-01, 5.0147e-01, 4.4687e-01,\n",
       "         2.6171e-01, 7.4336e-01, 5.5996e-01, 5.1607e-01, 7.8025e-01, 1.3816e-01,\n",
       "         7.1666e-01, 5.9491e-01, 6.2867e-02],\n",
       "        [3.6146e-01, 8.2850e-01, 6.1742e-02, 3.9799e-01, 4.3913e-01, 6.0400e-01,\n",
       "         1.7030e-01, 6.9907e-03, 3.8511e-01, 9.2348e-01, 1.5119e-01, 5.0666e-01,\n",
       "         2.2287e-01, 9.5759e-01, 3.3743e-01, 7.9386e-01, 3.4243e-01, 1.0939e-01,\n",
       "         8.0140e-01, 5.9070e-01, 6.4714e-01, 4.5639e-01, 1.1585e-01, 4.1964e-01,\n",
       "         4.2339e-01, 4.4018e-01, 2.8684e-01, 1.2228e-01, 9.9867e-02, 7.1749e-01,\n",
       "         3.8487e-01, 2.5313e-01, 7.0166e-01],\n",
       "        [6.0547e-01, 1.0110e-01, 2.2149e-01, 1.2421e-01, 4.4796e-01, 5.8742e-01,\n",
       "         6.1210e-01, 2.1556e-01, 6.2901e-01, 3.7988e-01, 6.7078e-01, 7.1247e-01,\n",
       "         6.9954e-01, 6.4533e-01, 2.8682e-02, 6.6317e-01, 9.0652e-01, 2.9728e-01,\n",
       "         1.4740e-01, 5.8702e-01, 5.2926e-01, 3.7648e-01, 4.9049e-02, 2.2399e-01,\n",
       "         2.1946e-01, 4.8653e-01, 9.8949e-02, 8.6051e-01, 6.1915e-01, 6.2161e-01,\n",
       "         2.2818e-01, 9.3254e-01, 3.9368e-01],\n",
       "        [1.6958e-01, 3.6002e-01, 7.9256e-02, 2.5266e-01, 8.9588e-01, 5.2334e-01,\n",
       "         4.4098e-01, 4.6799e-01, 4.3572e-01, 2.3011e-01, 7.1194e-01, 1.3749e-01,\n",
       "         5.6869e-01, 3.1659e-01, 9.6442e-01, 4.5268e-01, 9.5244e-01, 1.0545e-01,\n",
       "         5.3204e-02, 6.0630e-01, 6.5724e-01, 9.7969e-01, 1.6060e-02, 5.2433e-01,\n",
       "         4.3304e-01, 6.4553e-01, 5.7265e-01, 7.7496e-01, 5.7452e-01, 7.2874e-01,\n",
       "         6.0802e-01, 7.7240e-01, 2.9091e-01],\n",
       "        [1.6753e-01, 8.4747e-01, 4.4262e-01, 6.9238e-01, 4.0438e-01, 4.0368e-01,\n",
       "         8.5693e-01, 1.2445e-02, 2.0658e-02, 4.6442e-01, 6.8725e-01, 5.9172e-01,\n",
       "         7.4088e-01, 6.6272e-01, 8.6916e-01, 2.6143e-01, 7.8580e-01, 4.0243e-01,\n",
       "         6.8307e-01, 8.0680e-01, 4.8071e-01, 1.8586e-01, 6.2551e-01, 7.7346e-01,\n",
       "         3.9144e-01, 6.3182e-01, 3.8304e-02, 5.7523e-01, 1.9938e-02, 8.1110e-04,\n",
       "         9.2446e-01, 2.3852e-01, 7.1279e-01],\n",
       "        [4.9162e-01, 6.0527e-01, 7.7896e-01, 5.4917e-01, 1.6438e-01, 7.4922e-01,\n",
       "         1.0122e-01, 6.1088e-01, 6.1701e-01, 9.8542e-01, 6.6127e-01, 8.8491e-02,\n",
       "         1.6551e-01, 2.3470e-01, 8.0715e-01, 3.2237e-03, 4.4163e-01, 9.3979e-01,\n",
       "         2.4908e-01, 2.1386e-01, 1.7573e-03, 4.7469e-01, 4.6245e-02, 4.3917e-01,\n",
       "         1.4774e-01, 8.0791e-01, 8.6406e-01, 3.8104e-01, 3.4809e-05, 7.4026e-01,\n",
       "         3.3281e-01, 7.6257e-01, 5.2272e-01],\n",
       "        [5.7312e-01, 9.1936e-01, 3.5135e-01, 6.1725e-01, 1.2747e-01, 3.3592e-01,\n",
       "         9.7945e-01, 8.8506e-01, 8.9822e-01, 3.2098e-01, 9.6033e-01, 5.0332e-01,\n",
       "         9.5998e-01, 1.7699e-01, 7.1600e-01, 6.7242e-01, 6.1565e-01, 2.6478e-01,\n",
       "         1.7042e-02, 8.6582e-01, 4.5859e-01, 7.5893e-01, 8.4871e-01, 9.5478e-01,\n",
       "         3.6389e-01, 2.7004e-01, 1.5465e-01, 4.4222e-01, 9.9925e-01, 7.8383e-02,\n",
       "         2.4402e-01, 4.8047e-02, 2.5683e-01],\n",
       "        [3.9154e-01, 9.7719e-01, 4.4750e-01, 6.0052e-01, 6.9109e-01, 8.1698e-01,\n",
       "         2.8942e-01, 4.6792e-01, 5.9260e-01, 4.8903e-01, 4.9751e-01, 8.1003e-01,\n",
       "         9.8316e-01, 6.1308e-02, 8.1510e-01, 9.6997e-01, 8.5232e-01, 4.7346e-02,\n",
       "         8.7762e-01, 2.9753e-01, 9.8404e-01, 7.0944e-01, 7.7637e-01, 8.8497e-01,\n",
       "         2.9906e-03, 9.4525e-02, 3.4559e-01, 2.2219e-01, 9.3991e-01, 9.5897e-01,\n",
       "         7.8828e-01, 6.7853e-01, 5.6804e-01]])"
      ]
     },
     "execution_count": 59,
     "metadata": {},
     "output_type": "execute_result"
    }
   ],
   "source": [
    "ptest_tensor[i,:,:]"
   ]
  },
  {
   "cell_type": "code",
   "execution_count": 136,
   "id": "6e5d6781",
   "metadata": {},
   "outputs": [],
   "source": [
    "tt = test_tensor[:204]"
   ]
  },
  {
   "cell_type": "code",
   "execution_count": 142,
   "id": "16bf354b",
   "metadata": {
    "scrolled": true
   },
   "outputs": [
    {
     "data": {
      "text/plain": [
       "torch.Size([4, 33])"
      ]
     },
     "execution_count": 142,
     "metadata": {},
     "output_type": "execute_result"
    }
   ],
   "source": [
    "tt[1*200:][-10:].shape"
   ]
  },
  {
   "cell_type": "code",
   "execution_count": 144,
   "id": "4d6b4c12",
   "metadata": {},
   "outputs": [
    {
     "data": {
      "text/plain": [
       "tensor([[0.4396, 0.7082, 0.8753, 0.5915, 0.4299, 0.4796, 0.5322, 0.4846, 0.7730,\n",
       "         0.6790, 0.8913, 0.0404, 0.9299, 0.2975, 0.6836, 0.3075, 0.1434, 0.5101,\n",
       "         0.0113, 0.5184, 0.0421, 0.5130, 0.3983, 0.9136, 0.6495, 0.4231, 0.2541,\n",
       "         0.6904, 0.3265, 0.6928, 0.1542, 0.7361, 0.7293],\n",
       "        [0.7271, 0.0524, 0.4237, 0.2834, 0.1329, 0.7335, 0.6233, 0.3134, 0.2835,\n",
       "         0.5443, 0.7507, 0.9358, 0.7848, 0.2041, 0.9281, 0.2749, 0.1057, 0.4959,\n",
       "         0.2463, 0.2948, 0.0626, 0.0556, 0.7395, 0.4210, 0.6991, 0.8830, 0.2444,\n",
       "         0.1072, 0.3953, 0.2584, 0.5111, 0.8885, 0.1013],\n",
       "        [0.6505, 0.7177, 0.8398, 0.5211, 0.2072, 0.2995, 0.5196, 0.2611, 0.4052,\n",
       "         0.3233, 0.8528, 0.7261, 0.1786, 0.0047, 0.9422, 0.2393, 0.4268, 0.5018,\n",
       "         0.2214, 0.5232, 0.4006, 0.1108, 0.6751, 0.4846, 0.0134, 0.8402, 0.0410,\n",
       "         0.7518, 0.4162, 0.3657, 0.9628, 0.1467, 0.4264],\n",
       "        [0.1031, 0.5406, 0.4012, 0.7052, 0.1120, 0.6715, 0.8546, 0.5452, 0.0333,\n",
       "         0.2214, 0.1132, 0.2283, 0.5709, 0.7952, 0.1587, 0.9822, 0.2990, 0.1049,\n",
       "         0.2646, 0.7639, 0.1462, 0.5931, 0.8082, 0.6443, 0.6455, 0.7148, 0.2921,\n",
       "         0.7430, 0.3797, 0.4083, 0.6291, 0.5939, 0.6704]])"
      ]
     },
     "execution_count": 144,
     "metadata": {},
     "output_type": "execute_result"
    }
   ],
   "source": [
    "tt[200:]"
   ]
  }
 ],
 "metadata": {
  "kernelspec": {
   "display_name": "Python 3 (ipykernel)",
   "language": "python",
   "name": "python3"
  },
  "language_info": {
   "codemirror_mode": {
    "name": "ipython",
    "version": 3
   },
   "file_extension": ".py",
   "mimetype": "text/x-python",
   "name": "python",
   "nbconvert_exporter": "python",
   "pygments_lexer": "ipython3",
   "version": "3.9.13"
  }
 },
 "nbformat": 4,
 "nbformat_minor": 5
}
