{
 "cells": [
  {
   "cell_type": "code",
   "execution_count": 1,
   "id": "e3a4ff00",
   "metadata": {},
   "outputs": [],
   "source": [
    "import torch"
   ]
  },
  {
   "cell_type": "code",
   "execution_count": 2,
   "id": "ad291f8d",
   "metadata": {},
   "outputs": [],
   "source": [
    "import numpy as np\n",
    "from tqdm import tqdm\n",
    "import matplotlib.pyplot as plt\n"
   ]
  },
  {
   "cell_type": "code",
   "execution_count": 3,
   "id": "b7b1fef7",
   "metadata": {},
   "outputs": [],
   "source": [
    "from envs.env import D2DEnv\n",
    "from algorithms.baselines import EarliestDeadlineFirstScheduler, GFAccess\n",
    "from algorithms.ippo import iPPO\n"
   ]
  },
  {
   "cell_type": "code",
   "execution_count": 4,
   "id": "aa427045",
   "metadata": {},
   "outputs": [
    {
     "data": {
      "text/plain": [
       "7.008035881143711"
      ]
     },
     "execution_count": 4,
     "metadata": {},
     "output_type": "execute_result"
    }
   ],
   "source": [
    "Tf_gf = 4*(1 / 30 * 1e-3 + 2.34e-6)\n",
    "1e-3 / Tf_gf"
   ]
  },
  {
   "cell_type": "code",
   "execution_count": 5,
   "id": "16f68aa3",
   "metadata": {},
   "outputs": [],
   "source": [
    "n_agents = 10\n",
    "deadlines = np.array([7]*n_agents)\n",
    "lbdas = np.array([1/14]*n_agents)\n",
    "period = None\n",
    "arrival_probs = None\n",
    "offsets = None\n",
    "neighbourhoods = [list(range(n_agents)) for k in range(n_agents)]\n"
   ]
  },
  {
   "cell_type": "code",
   "execution_count": 6,
   "id": "3e8fc4cd",
   "metadata": {},
   "outputs": [],
   "source": [
    "env = D2DEnv(n_agents,\n",
    "                deadlines,\n",
    "                lbdas,\n",
    "                period=period,\n",
    "                arrival_probs=arrival_probs,\n",
    "                offsets=offsets,\n",
    "                episode_length=200,\n",
    "                traffic_model='aperiodic',\n",
    "                periodic_devices=[],\n",
    "                reward_type=0,\n",
    "                channel_switch=0,\n",
    "                channel_decoding=1.,\n",
    "                neighbourhoods=neighbourhoods, # Neighbourhoods is a list of size n_agents with the indices of the neighbours for each agent.\n",
    "                verbose=False)"
   ]
  },
  {
   "cell_type": "code",
   "execution_count": 8,
   "id": "e84c61f7",
   "metadata": {},
   "outputs": [],
   "source": [
    "edf = EarliestDeadlineFirstScheduler(env, use_channel=False, verbose=True)\n"
   ]
  },
  {
   "cell_type": "code",
   "execution_count": 9,
   "id": "4016b52e",
   "metadata": {},
   "outputs": [
    {
     "name": "stdout",
     "output_type": "stream",
     "text": [
      "Number of received packets: 71779.0\n",
      "Number of channel_losses: 0\n"
     ]
    }
   ],
   "source": [
    "res_edf = edf.run(500)\n"
   ]
  },
  {
   "cell_type": "code",
   "execution_count": 10,
   "id": "a600e4a2",
   "metadata": {},
   "outputs": [
    {
     "name": "stdout",
     "output_type": "stream",
     "text": [
      "URLLC score: 0.9967957201967149\n",
      "Jain's index: 0.9997862827685239\n",
      "Channel errors: 0\n",
      "Reward per episode: 1414.96\n"
     ]
    }
   ],
   "source": [
    "print(f\"URLLC score: {res_edf[0]}\")\n",
    "print(f\"Jain's index: {res_edf[1]}\")\n",
    "print(f\"Channel errors: {res_edf[2]}\")\n",
    "print(f\"Reward per episode: {res_edf[3]}\")\n"
   ]
  },
  {
   "cell_type": "code",
   "execution_count": 11,
   "id": "8d9473eb",
   "metadata": {},
   "outputs": [],
   "source": [
    "gf = GFAccess(env, use_channel=False)\n"
   ]
  },
  {
   "cell_type": "code",
   "execution_count": 12,
   "id": "879ecf93",
   "metadata": {},
   "outputs": [
    {
     "name": "stdout",
     "output_type": "stream",
     "text": [
      "Transmission probabilities: [0.1, 0.2, 0.3, 0.4, 0.5, 0.6, 0.7, 0.8, 0.9, 1] \n",
      "URLLC scores: [0.3666482224374049, 0.5064612326043738, 0.5461776714064479, 0.5122845871686622, 0.45994993742177726, 0.38629416364541125, 0.2977648605632828, 0.23084384093113486, 0.16863864142538976, 0.11496897441260545]\n"
     ]
    }
   ],
   "source": [
    "cv = gf.get_best_transmission_probs(100)\n",
    "gf.transmission_prob = gf.transmission_prob_list[np.argmax(cv)]\n",
    "print(f\"Transmission probabilities: {gf.transmission_prob_list} \\nURLLC scores: {cv}\")\n"
   ]
  },
  {
   "cell_type": "code",
   "execution_count": 14,
   "id": "1b948802",
   "metadata": {},
   "outputs": [],
   "source": [
    "res_gf = gf.run(500)\n"
   ]
  },
  {
   "cell_type": "code",
   "execution_count": 15,
   "id": "a6a3d935",
   "metadata": {},
   "outputs": [
    {
     "name": "stdout",
     "output_type": "stream",
     "text": [
      "URLLC score: 0.5337340886740447\n",
      "Jain's index: 0.9426200635570335\n",
      "Channel errors: 0\n",
      "Reward per episode: 271.32\n"
     ]
    }
   ],
   "source": [
    "print(f\"URLLC score: {res_gf[0]}\")\n",
    "print(f\"Jain's index: {res_gf[1]}\")\n",
    "print(f\"Channel errors: {res_gf[2]}\")\n",
    "print(f\"Reward per episode: {res_gf[3]}\")\n"
   ]
  },
  {
   "cell_type": "code",
   "execution_count": 18,
   "id": "fb51c5e6",
   "metadata": {},
   "outputs": [
    {
     "data": {
      "text/plain": [
       "2"
      ]
     },
     "execution_count": 18,
     "metadata": {},
     "output_type": "execute_result"
    }
   ],
   "source": [
    "env.action_space[0].n\n"
   ]
  },
  {
   "cell_type": "code",
   "execution_count": 32,
   "id": "4d984f34",
   "metadata": {},
   "outputs": [],
   "source": [
    "observations = {f\"{i}\": [] for i in range(n_agents)}\n",
    "obs, (buffer_state, channel_state) = env.reset()\n",
    "done = False\n",
    "while not done:\n",
    "    for i in range(n_agents):\n",
    "        obs_agent = torch.tensor(obs[i], dtype=torch.float)\n",
    "        observations[str(i)].append(obs_agent)\n",
    "    action_agent = []\n",
    "    log_prob_agent = []\n",
    "    # entropy_agent = []\n",
    "    value_agent = []\n",
    "    actions = np.array(env.action_space.sample())\n",
    "    next_obs, next_state, reward, done, _ = env.step(actions)\n",
    "    obs = next_obs\n",
    "    "
   ]
  },
  {
   "cell_type": "code",
   "execution_count": 37,
   "id": "5d9d5dba",
   "metadata": {},
   "outputs": [
    {
     "data": {
      "text/plain": [
       "tensor([[0., 0., 0.,  ..., 0., 1., 0.],\n",
       "        [0., 0., 0.,  ..., 0., 1., 0.],\n",
       "        [0., 0., 0.,  ..., 0., 1., 0.],\n",
       "        ...,\n",
       "        [0., 0., 0.,  ..., 0., 1., 0.],\n",
       "        [0., 0., 0.,  ..., 0., 1., 1.],\n",
       "        [0., 0., 0.,  ..., 0., 1., 0.]])"
      ]
     },
     "execution_count": 37,
     "metadata": {},
     "output_type": "execute_result"
    }
   ],
   "source": [
    "torch.stack(observations['0'])\n"
   ]
  },
  {
   "cell_type": "code",
   "execution_count": 7,
   "id": "382b5f6f",
   "metadata": {},
   "outputs": [],
   "source": [
    "ippo = iPPO(env)\n"
   ]
  },
  {
   "cell_type": "code",
   "execution_count": 10,
   "id": "69139be9",
   "metadata": {},
   "outputs": [
    {
     "data": {
      "text/plain": [
       "(0.9936606397936977, 0.9993883413983079, 0, 86.4)"
      ]
     },
     "execution_count": 10,
     "metadata": {},
     "output_type": "execute_result"
    }
   ],
   "source": [
    "ippo.test(10)"
   ]
  },
  {
   "cell_type": "code",
   "execution_count": 9,
   "id": "359f9737",
   "metadata": {},
   "outputs": [
    {
     "name": "stdout",
     "output_type": "stream",
     "text": [
      "Episode: 0, mean score rollout: 0.7488213021875807 Score test: (0.7469722589823404, 0.9444541646502899, 0, 39.62)\n",
      "Episode: 100, mean score rollout: 0.8327039897350128 Score test: (0.8311155346140794, 0.9777690849931759, 0, 54.58)\n",
      "Episode: 200, mean score rollout: 0.8567853930713938 Score test: (0.8645113433551288, 0.974426456337026, 0, 63.52)\n",
      "Episode: 300, mean score rollout: 0.8734371014557402 Score test: (0.8723178806902085, 0.9782159383494688, 0, 66.6)\n",
      "Episode: 400, mean score rollout: 0.9073268705795613 Score test: (0.9156660705619898, 0.9890156813598938, 0, 69.2)\n",
      "Episode: 500, mean score rollout: 0.9329326821443029 Score test: (0.9296142931998415, 0.9918918502930987, 0, 72.86)\n",
      "Episode: 600, mean score rollout: 0.9461803625275246 Score test: (0.9327030398804986, 0.9930824267038448, 0, 72.64)\n",
      "Episode: 700, mean score rollout: 0.9200725689277418 Score test: (0.9330507912831562, 0.9913262219004569, 0, 75.48)\n",
      "Episode: 800, mean score rollout: 0.956791463543989 Score test: (0.9549269218954144, 0.9948273683596228, 0, 76.78)\n",
      "Episode: 900, mean score rollout: 0.9791306237738452 Score test: (0.9663823370813415, 0.9966312080927952, 0, 78.24)\n",
      "Episode: 1000, mean score rollout: 0.9598219446759324 Score test: (0.9690401811443148, 0.9972374697741551, 0, 81.82)\n",
      "Episode: 1100, mean score rollout: 0.9711313549858769 Score test: (0.9724292414117801, 0.9973849653336737, 0, 80.34)\n",
      "Episode: 1200, mean score rollout: 0.9769128573457284 Score test: (0.9774577592147525, 0.9975943232167103, 0, 80.32)\n",
      "Episode: 1300, mean score rollout: 0.9800152746468606 Score test: (0.9832537002035835, 0.9984101481838956, 0, 83.52)\n",
      "Episode: 1400, mean score rollout: 0.9841476658634263 Score test: (0.9853889271773029, 0.9988374542496652, 0, 81.62)\n",
      "Episode: 1500, mean score rollout: 0.9852096100702165 Score test: (0.9846363877202786, 0.9987946388766906, 0, 85.3)\n",
      "Episode: 1600, mean score rollout: 0.9777010280630157 Score test: (0.9874658277822818, 0.9990960479127802, 0, 82.84)\n",
      "Episode: 1700, mean score rollout: 0.9866311598518843 Score test: (0.9827516026264838, 0.9983894246107148, 0, 79.96)\n",
      "Episode: 1800, mean score rollout: 0.9761188678483541 Score test: (0.9823745073848293, 0.9985910858246008, 0, 81.32)\n",
      "Episode: 1900, mean score rollout: 0.9861183775232523 Score test: (0.9907192636506764, 0.9993322530869233, 0, 81.94)\n",
      "Episode: 2000, mean score rollout: 0.9756188044229557 Score test: (0.980520782125166, 0.997998542748299, 0, 83.62)\n",
      "Episode: 2100, mean score rollout: 0.9826831906606343 Score test: (0.9935921855822845, 0.999547854266369, 0, 80.54)\n",
      "Episode: 2200, mean score rollout: 0.9875739739115025 Score test: (0.9899017853112941, 0.999311933552229, 0, 84.92)\n",
      "Episode: 2300, mean score rollout: 0.9910354885456569 Score test: (0.989282269832394, 0.9990674800525676, 0, 84.32)\n",
      "Episode: 2400, mean score rollout: 0.9870240573528716 Score test: (0.9904090299330326, 0.9992613246335574, 0, 85.16)\n",
      "Episode: 2500, mean score rollout: 0.994525476963111 Score test: (0.990817990747876, 0.9991863174555278, 0, 83.92)\n",
      "Episode: 2600, mean score rollout: 0.983918155824729 Score test: (0.9896335442719573, 0.9990916414522717, 0, 81.24)\n",
      "Episode: 2700, mean score rollout: 0.9926273230413789 Score test: (0.991201272598055, 0.9993287939821535, 0, 81.82)\n",
      "Episode: 2800, mean score rollout: 0.9833971409554264 Score test: (0.9946807452509248, 0.9995446561511439, 0, 82.44)\n",
      "Episode: 2900, mean score rollout: 0.9846377988167009 Score test: (0.993057476011969, 0.9993758190423101, 0, 84.18)\n",
      "Episode: 3000, mean score rollout: 0.9940593274378462 Score test: (0.9937123161976885, 0.9995126527427144, 0, 82.7)\n",
      "Episode: 3100, mean score rollout: 0.9931501851753101 Score test: (0.9886514217803715, 0.9987805491600221, 0, 84.76)\n",
      "Episode: 3200, mean score rollout: 0.9933759980141843 Score test: (0.9935019968943329, 0.9995211240516467, 0, 84.22)\n",
      "Episode: 3300, mean score rollout: 0.9971402425074355 Score test: (0.9901689621166492, 0.9991876177850171, 0, 85.58)\n",
      "Episode: 3400, mean score rollout: 0.9903647188849505 Score test: (0.9908310821050387, 0.9993259826823568, 0, 84.22)\n",
      "Episode: 3500, mean score rollout: 0.9889014965752685 Score test: (0.9926458674923729, 0.9995549825776009, 0, 83.52)\n",
      "Episode: 3600, mean score rollout: 0.9880264113013618 Score test: (0.9911730497694211, 0.9993208777899448, 0, 83.92)\n",
      "Episode: 3700, mean score rollout: 0.984698966479477 Score test: (0.9904970834731204, 0.9992020576018231, 0, 83.24)\n",
      "Episode: 3800, mean score rollout: 0.9961820014769465 Score test: (0.9906680671124228, 0.9992107444352039, 0, 86.16)\n",
      "Episode: 3900, mean score rollout: 0.989722766445714 Score test: (0.9920983695142442, 0.9992442907172969, 0, 83.9)\n",
      "Episode: 4000, mean score rollout: 0.9882928463261819 Score test: (0.9916925073584896, 0.9992502626832409, 0, 84.6)\n",
      "Episode: 4100, mean score rollout: 0.9955022796595829 Score test: (0.9901660083579306, 0.9992762997912902, 0, 85.78)\n",
      "Episode: 4200, mean score rollout: 0.9917262303460684 Score test: (0.9905721640847956, 0.9989558828767082, 0, 85.18)\n",
      "Episode: 4300, mean score rollout: 0.9909855341412631 Score test: (0.9869647490480539, 0.9983798795912344, 0, 85.0)\n",
      "Episode: 4400, mean score rollout: 0.9967465504720406 Score test: (0.9901574253719724, 0.9992899679849009, 0, 86.06)\n",
      "Episode: 4500, mean score rollout: 0.9942284544921473 Score test: (0.9964803968171901, 0.9996265688822814, 0, 85.82)\n",
      "Episode: 4600, mean score rollout: 0.99563413188128 Score test: (0.9906489488414142, 0.9989060349347129, 0, 86.6)\n",
      "Episode: 4700, mean score rollout: 0.9895968725046321 Score test: (0.9937964782270734, 0.9994205541372445, 0, 83.84)\n",
      "Episode: 4800, mean score rollout: 0.9873655128855837 Score test: (0.9926841854969359, 0.9994046560329175, 0, 85.8)\n",
      "Episode: 4900, mean score rollout: 0.9910040747795994 Score test: (0.9931747097111395, 0.9995367833336669, 0, 84.78)\n",
      "Episode: 5000, mean score rollout: 0.9921034358399529 Score test: (0.9934198010312696, 0.9994480693351742, 0, 85.5)\n",
      "Episode: 5100, mean score rollout: 0.9952397358598909 Score test: (0.9947389842202038, 0.9995894181145942, 0, 85.0)\n",
      "Episode: 5200, mean score rollout: 0.9918882295299821 Score test: (0.9942874197693072, 0.999341249309248, 0, 83.42)\n",
      "Episode: 5300, mean score rollout: 0.9948712423626489 Score test: (0.9927335243586235, 0.9994119722752464, 0, 84.42)\n",
      "Episode: 5400, mean score rollout: 0.9967167946914782 Score test: (0.9931432381511932, 0.9992576380835423, 0, 86.24)\n",
      "Episode: 5500, mean score rollout: 0.9941657117590043 Score test: (0.9960447670193093, 0.9996222765161586, 0, 84.38)\n",
      "Episode: 5600, mean score rollout: 0.9921067085174006 Score test: (0.9959371517149055, 0.999693790965847, 0, 83.86)\n",
      "Episode: 5700, mean score rollout: 0.99153147200208 Score test: (0.9954345263230411, 0.9996524709414498, 0, 86.4)\n",
      "Episode: 5800, mean score rollout: 0.9979166666666667 Score test: (0.9950615949565776, 0.9995990689545109, 0, 85.1)\n",
      "Episode: 5900, mean score rollout: 0.9916125756002455 Score test: (0.9958145817052468, 0.9996935576629313, 0, 84.78)\n",
      "Episode: 6000, mean score rollout: 0.9953968641894335 Score test: (0.9971444937877075, 0.9998898327480265, 0, 83.88)\n",
      "Episode: 6100, mean score rollout: 0.9911537516688083 Score test: (0.9958883739054903, 0.9996899292654036, 0, 84.9)\n",
      "Episode: 6200, mean score rollout: 0.987533003752865 Score test: (0.9962727089696136, 0.9996735398557297, 0, 83.02)\n",
      "Episode: 6300, mean score rollout: 0.9963973757558354 Score test: (0.9946495255607308, 0.9994149816041916, 0, 83.84)\n",
      "Episode: 6400, mean score rollout: 0.9952914683277421 Score test: (0.9943074688233102, 0.9996909336383908, 0, 86.72)\n",
      "Episode: 6500, mean score rollout: 0.9961877286799887 Score test: (0.9944944663579612, 0.9994072734197545, 0, 83.18)\n",
      "Episode: 6600, mean score rollout: 0.9988603988603989 Score test: (0.9950216601560007, 0.9995511527364818, 0, 84.8)\n",
      "Episode: 6700, mean score rollout: 0.991645539526539 Score test: (0.9899271572701045, 0.9992119275569746, 0, 82.3)\n"
     ]
    },
    {
     "ename": "KeyboardInterrupt",
     "evalue": "",
     "output_type": "error",
     "traceback": [
      "\u001b[0;31m---------------------------------------------------------------------------\u001b[0m",
      "\u001b[0;31mKeyboardInterrupt\u001b[0m                         Traceback (most recent call last)",
      "\u001b[0;32m/var/folders/dd/yfjv716n6r7_2w8w_lv151d80000gn/T/ipykernel_80671/3573482453.py\u001b[0m in \u001b[0;36m<module>\u001b[0;34m\u001b[0m\n\u001b[0;32m----> 1\u001b[0;31m \u001b[0mippo\u001b[0m\u001b[0;34m.\u001b[0m\u001b[0mtrain\u001b[0m\u001b[0;34m(\u001b[0m\u001b[0;36m10000\u001b[0m\u001b[0;34m,\u001b[0m \u001b[0;36m15\u001b[0m\u001b[0;34m)\u001b[0m\u001b[0;34m\u001b[0m\u001b[0;34m\u001b[0m\u001b[0m\n\u001b[0m",
      "\u001b[0;32m~/Documents/phd/D2D-PPO/algorithms/ippo.py\u001b[0m in \u001b[0;36mtrain\u001b[0;34m(self, num_iter, num_episodes)\u001b[0m\n\u001b[1;32m    352\u001b[0m \u001b[0;34m\u001b[0m\u001b[0m\n\u001b[1;32m    353\u001b[0m         \u001b[0;32mfor\u001b[0m \u001b[0miter\u001b[0m \u001b[0;32min\u001b[0m \u001b[0mrange\u001b[0m\u001b[0;34m(\u001b[0m\u001b[0mnum_iter\u001b[0m\u001b[0;34m)\u001b[0m\u001b[0;34m:\u001b[0m\u001b[0;34m\u001b[0m\u001b[0;34m\u001b[0m\u001b[0m\n\u001b[0;32m--> 354\u001b[0;31m             \u001b[0mobs\u001b[0m\u001b[0;34m,\u001b[0m \u001b[0mactions\u001b[0m\u001b[0;34m,\u001b[0m \u001b[0mlog_probs_old\u001b[0m\u001b[0;34m,\u001b[0m \u001b[0mreturns\u001b[0m\u001b[0;34m,\u001b[0m \u001b[0m_\u001b[0m\u001b[0;34m,\u001b[0m \u001b[0madvantages\u001b[0m\u001b[0;34m,\u001b[0m \u001b[0mscores\u001b[0m\u001b[0;34m,\u001b[0m \u001b[0m_\u001b[0m \u001b[0;34m=\u001b[0m \u001b[0mself\u001b[0m\u001b[0;34m.\u001b[0m\u001b[0mcreate_rollouts\u001b[0m\u001b[0;34m(\u001b[0m\u001b[0mnum_episodes\u001b[0m\u001b[0;34m)\u001b[0m\u001b[0;34m\u001b[0m\u001b[0;34m\u001b[0m\u001b[0m\n\u001b[0m\u001b[1;32m    355\u001b[0m \u001b[0;34m\u001b[0m\u001b[0m\n\u001b[1;32m    356\u001b[0m             \u001b[0;31m# Shape: (len_trajectory * num agents)\u001b[0m\u001b[0;34m\u001b[0m\u001b[0;34m\u001b[0m\u001b[0m\n",
      "\u001b[0;32m~/Documents/phd/D2D-PPO/algorithms/ippo.py\u001b[0m in \u001b[0;36mcreate_rollouts\u001b[0;34m(self, num_episodes)\u001b[0m\n\u001b[1;32m    283\u001b[0m                     \u001b[0mobs_agent\u001b[0m \u001b[0;34m=\u001b[0m \u001b[0mtorch\u001b[0m\u001b[0;34m.\u001b[0m\u001b[0mtensor\u001b[0m\u001b[0;34m(\u001b[0m\u001b[0mobs\u001b[0m\u001b[0;34m[\u001b[0m\u001b[0mi\u001b[0m\u001b[0;34m]\u001b[0m\u001b[0;34m,\u001b[0m \u001b[0mdtype\u001b[0m\u001b[0;34m=\u001b[0m\u001b[0mtorch\u001b[0m\u001b[0;34m.\u001b[0m\u001b[0mfloat\u001b[0m\u001b[0;34m)\u001b[0m\u001b[0;34m.\u001b[0m\u001b[0mto\u001b[0m\u001b[0;34m(\u001b[0m\u001b[0mself\u001b[0m\u001b[0;34m.\u001b[0m\u001b[0mdevice\u001b[0m\u001b[0;34m)\u001b[0m\u001b[0;34m\u001b[0m\u001b[0;34m\u001b[0m\u001b[0m\n\u001b[1;32m    284\u001b[0m                     \u001b[0mobservations\u001b[0m\u001b[0;34m[\u001b[0m\u001b[0mstr\u001b[0m\u001b[0;34m(\u001b[0m\u001b[0mi\u001b[0m\u001b[0;34m)\u001b[0m\u001b[0;34m]\u001b[0m\u001b[0;34m.\u001b[0m\u001b[0mappend\u001b[0m\u001b[0;34m(\u001b[0m\u001b[0mobs_agent\u001b[0m\u001b[0;34m)\u001b[0m\u001b[0;34m\u001b[0m\u001b[0;34m\u001b[0m\u001b[0m\n\u001b[0;32m--> 285\u001b[0;31m                     \u001b[0maction\u001b[0m\u001b[0;34m,\u001b[0m \u001b[0mlog_prob\u001b[0m\u001b[0;34m,\u001b[0m \u001b[0mentropy\u001b[0m \u001b[0;34m=\u001b[0m \u001b[0magent\u001b[0m\u001b[0;34m.\u001b[0m\u001b[0mselect_action\u001b[0m\u001b[0;34m(\u001b[0m\u001b[0mobs_agent\u001b[0m\u001b[0;34m,\u001b[0m \u001b[0mtrain\u001b[0m\u001b[0;34m=\u001b[0m\u001b[0;32mTrue\u001b[0m\u001b[0;34m)\u001b[0m\u001b[0;34m\u001b[0m\u001b[0;34m\u001b[0m\u001b[0m\n\u001b[0m\u001b[1;32m    286\u001b[0m                     \u001b[0maction_agent\u001b[0m\u001b[0;34m.\u001b[0m\u001b[0mappend\u001b[0m\u001b[0;34m(\u001b[0m\u001b[0maction\u001b[0m\u001b[0;34m)\u001b[0m\u001b[0;34m\u001b[0m\u001b[0;34m\u001b[0m\u001b[0m\n\u001b[1;32m    287\u001b[0m                     \u001b[0mlog_prob_agent\u001b[0m\u001b[0;34m.\u001b[0m\u001b[0mappend\u001b[0m\u001b[0;34m(\u001b[0m\u001b[0mlog_prob\u001b[0m\u001b[0;34m)\u001b[0m\u001b[0;34m\u001b[0m\u001b[0;34m\u001b[0m\u001b[0m\n",
      "\u001b[0;32m~/Documents/phd/D2D-PPO/algorithms/ippo.py\u001b[0m in \u001b[0;36mselect_action\u001b[0;34m(self, state, train)\u001b[0m\n\u001b[1;32m    155\u001b[0m         \u001b[0;32melse\u001b[0m\u001b[0;34m:\u001b[0m\u001b[0;34m\u001b[0m\u001b[0;34m\u001b[0m\u001b[0m\n\u001b[1;32m    156\u001b[0m             \u001b[0maction\u001b[0m \u001b[0;34m=\u001b[0m \u001b[0mprobs\u001b[0m\u001b[0;34m.\u001b[0m\u001b[0margmax\u001b[0m\u001b[0;34m(\u001b[0m\u001b[0mdim\u001b[0m\u001b[0;34m=\u001b[0m\u001b[0;36m1\u001b[0m\u001b[0;34m)\u001b[0m\u001b[0;34m\u001b[0m\u001b[0;34m\u001b[0m\u001b[0m\n\u001b[0;32m--> 157\u001b[0;31m         \u001b[0mlog_prob\u001b[0m \u001b[0;34m=\u001b[0m \u001b[0mdist\u001b[0m\u001b[0;34m.\u001b[0m\u001b[0mlog_prob\u001b[0m\u001b[0;34m(\u001b[0m\u001b[0maction\u001b[0m\u001b[0;34m)\u001b[0m\u001b[0;34m\u001b[0m\u001b[0;34m\u001b[0m\u001b[0m\n\u001b[0m\u001b[1;32m    158\u001b[0m         \u001b[0mentropy\u001b[0m \u001b[0;34m=\u001b[0m \u001b[0mdist\u001b[0m\u001b[0;34m.\u001b[0m\u001b[0mentropy\u001b[0m\u001b[0;34m(\u001b[0m\u001b[0;34m)\u001b[0m\u001b[0;34m\u001b[0m\u001b[0;34m\u001b[0m\u001b[0m\n\u001b[1;32m    159\u001b[0m \u001b[0;34m\u001b[0m\u001b[0m\n",
      "\u001b[0;32m~/opt/anaconda3/lib/python3.9/site-packages/torch/distributions/categorical.py\u001b[0m in \u001b[0;36mlog_prob\u001b[0;34m(self, value)\u001b[0m\n\u001b[1;32m    121\u001b[0m     \u001b[0;32mdef\u001b[0m \u001b[0mlog_prob\u001b[0m\u001b[0;34m(\u001b[0m\u001b[0mself\u001b[0m\u001b[0;34m,\u001b[0m \u001b[0mvalue\u001b[0m\u001b[0;34m)\u001b[0m\u001b[0;34m:\u001b[0m\u001b[0;34m\u001b[0m\u001b[0;34m\u001b[0m\u001b[0m\n\u001b[1;32m    122\u001b[0m         \u001b[0;32mif\u001b[0m \u001b[0mself\u001b[0m\u001b[0;34m.\u001b[0m\u001b[0m_validate_args\u001b[0m\u001b[0;34m:\u001b[0m\u001b[0;34m\u001b[0m\u001b[0;34m\u001b[0m\u001b[0m\n\u001b[0;32m--> 123\u001b[0;31m             \u001b[0mself\u001b[0m\u001b[0;34m.\u001b[0m\u001b[0m_validate_sample\u001b[0m\u001b[0;34m(\u001b[0m\u001b[0mvalue\u001b[0m\u001b[0;34m)\u001b[0m\u001b[0;34m\u001b[0m\u001b[0;34m\u001b[0m\u001b[0m\n\u001b[0m\u001b[1;32m    124\u001b[0m         \u001b[0mvalue\u001b[0m \u001b[0;34m=\u001b[0m \u001b[0mvalue\u001b[0m\u001b[0;34m.\u001b[0m\u001b[0mlong\u001b[0m\u001b[0;34m(\u001b[0m\u001b[0;34m)\u001b[0m\u001b[0;34m.\u001b[0m\u001b[0munsqueeze\u001b[0m\u001b[0;34m(\u001b[0m\u001b[0;34m-\u001b[0m\u001b[0;36m1\u001b[0m\u001b[0;34m)\u001b[0m\u001b[0;34m\u001b[0m\u001b[0;34m\u001b[0m\u001b[0m\n\u001b[1;32m    125\u001b[0m         \u001b[0mvalue\u001b[0m\u001b[0;34m,\u001b[0m \u001b[0mlog_pmf\u001b[0m \u001b[0;34m=\u001b[0m \u001b[0mtorch\u001b[0m\u001b[0;34m.\u001b[0m\u001b[0mbroadcast_tensors\u001b[0m\u001b[0;34m(\u001b[0m\u001b[0mvalue\u001b[0m\u001b[0;34m,\u001b[0m \u001b[0mself\u001b[0m\u001b[0;34m.\u001b[0m\u001b[0mlogits\u001b[0m\u001b[0;34m)\u001b[0m\u001b[0;34m\u001b[0m\u001b[0;34m\u001b[0m\u001b[0m\n",
      "\u001b[0;32m~/opt/anaconda3/lib/python3.9/site-packages/torch/distributions/distribution.py\u001b[0m in \u001b[0;36m_validate_sample\u001b[0;34m(self, value)\u001b[0m\n\u001b[1;32m    290\u001b[0m             \u001b[0;32mreturn\u001b[0m\u001b[0;34m\u001b[0m\u001b[0;34m\u001b[0m\u001b[0m\n\u001b[1;32m    291\u001b[0m         \u001b[0;32massert\u001b[0m \u001b[0msupport\u001b[0m \u001b[0;32mis\u001b[0m \u001b[0;32mnot\u001b[0m \u001b[0;32mNone\u001b[0m\u001b[0;34m\u001b[0m\u001b[0;34m\u001b[0m\u001b[0m\n\u001b[0;32m--> 292\u001b[0;31m         \u001b[0mvalid\u001b[0m \u001b[0;34m=\u001b[0m \u001b[0msupport\u001b[0m\u001b[0;34m.\u001b[0m\u001b[0mcheck\u001b[0m\u001b[0;34m(\u001b[0m\u001b[0mvalue\u001b[0m\u001b[0;34m)\u001b[0m\u001b[0;34m\u001b[0m\u001b[0;34m\u001b[0m\u001b[0m\n\u001b[0m\u001b[1;32m    293\u001b[0m         \u001b[0;32mif\u001b[0m \u001b[0;32mnot\u001b[0m \u001b[0mvalid\u001b[0m\u001b[0;34m.\u001b[0m\u001b[0mall\u001b[0m\u001b[0;34m(\u001b[0m\u001b[0;34m)\u001b[0m\u001b[0;34m:\u001b[0m\u001b[0;34m\u001b[0m\u001b[0;34m\u001b[0m\u001b[0m\n\u001b[1;32m    294\u001b[0m             raise ValueError(\n",
      "\u001b[0;32m~/opt/anaconda3/lib/python3.9/site-packages/torch/distributions/constraints.py\u001b[0m in \u001b[0;36mcheck\u001b[0;34m(self, value)\u001b[0m\n\u001b[1;32m    255\u001b[0m \u001b[0;34m\u001b[0m\u001b[0m\n\u001b[1;32m    256\u001b[0m     \u001b[0;32mdef\u001b[0m \u001b[0mcheck\u001b[0m\u001b[0;34m(\u001b[0m\u001b[0mself\u001b[0m\u001b[0;34m,\u001b[0m \u001b[0mvalue\u001b[0m\u001b[0;34m)\u001b[0m\u001b[0;34m:\u001b[0m\u001b[0;34m\u001b[0m\u001b[0;34m\u001b[0m\u001b[0m\n\u001b[0;32m--> 257\u001b[0;31m         \u001b[0;32mreturn\u001b[0m \u001b[0;34m(\u001b[0m\u001b[0mvalue\u001b[0m \u001b[0;34m%\u001b[0m \u001b[0;36m1\u001b[0m \u001b[0;34m==\u001b[0m \u001b[0;36m0\u001b[0m\u001b[0;34m)\u001b[0m \u001b[0;34m&\u001b[0m \u001b[0;34m(\u001b[0m\u001b[0mself\u001b[0m\u001b[0;34m.\u001b[0m\u001b[0mlower_bound\u001b[0m \u001b[0;34m<=\u001b[0m \u001b[0mvalue\u001b[0m\u001b[0;34m)\u001b[0m \u001b[0;34m&\u001b[0m \u001b[0;34m(\u001b[0m\u001b[0mvalue\u001b[0m \u001b[0;34m<=\u001b[0m \u001b[0mself\u001b[0m\u001b[0;34m.\u001b[0m\u001b[0mupper_bound\u001b[0m\u001b[0;34m)\u001b[0m\u001b[0;34m\u001b[0m\u001b[0;34m\u001b[0m\u001b[0m\n\u001b[0m\u001b[1;32m    258\u001b[0m \u001b[0;34m\u001b[0m\u001b[0m\n\u001b[1;32m    259\u001b[0m     \u001b[0;32mdef\u001b[0m \u001b[0m__repr__\u001b[0m\u001b[0;34m(\u001b[0m\u001b[0mself\u001b[0m\u001b[0;34m)\u001b[0m\u001b[0;34m:\u001b[0m\u001b[0;34m\u001b[0m\u001b[0;34m\u001b[0m\u001b[0m\n",
      "\u001b[0;31mKeyboardInterrupt\u001b[0m: "
     ]
    }
   ],
   "source": [
    "ippo.train(10000, 15)"
   ]
  },
  {
   "cell_type": "code",
   "execution_count": null,
   "id": "9ffefcaf",
   "metadata": {},
   "outputs": [],
   "source": []
  },
  {
   "cell_type": "code",
   "execution_count": null,
   "id": "a981c9e9",
   "metadata": {},
   "outputs": [],
   "source": []
  }
 ],
 "metadata": {
  "kernelspec": {
   "display_name": "Python 3 (ipykernel)",
   "language": "python",
   "name": "python3"
  },
  "language_info": {
   "codemirror_mode": {
    "name": "ipython",
    "version": 3
   },
   "file_extension": ".py",
   "mimetype": "text/x-python",
   "name": "python",
   "nbconvert_exporter": "python",
   "pygments_lexer": "ipython3",
   "version": "3.9.13"
  }
 },
 "nbformat": 4,
 "nbformat_minor": 5
}
